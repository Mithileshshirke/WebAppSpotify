{
 "cells": [
  {
   "cell_type": "code",
   "execution_count": 1,
   "metadata": {},
   "outputs": [],
   "source": [
    "import numpy as np\n",
    "import pandas as pd\n",
    "import matplotlib.pyplot as plt\n",
    "import seaborn as sns\n",
    "from sklearn.model_selection import train_test_split\n",
    "from sklearn.decomposition import PCA\n",
    "import warnings\n",
    "warnings.filterwarnings('ignore')\n",
    "plt.style.use('ggplot')\n",
    "%matplotlib inline"
   ]
  },
  {
   "cell_type": "code",
   "execution_count": 2,
   "metadata": {},
   "outputs": [
    {
     "data": {
      "text/html": [
       "<div>\n",
       "<style scoped>\n",
       "    .dataframe tbody tr th:only-of-type {\n",
       "        vertical-align: middle;\n",
       "    }\n",
       "\n",
       "    .dataframe tbody tr th {\n",
       "        vertical-align: top;\n",
       "    }\n",
       "\n",
       "    .dataframe thead th {\n",
       "        text-align: right;\n",
       "    }\n",
       "</style>\n",
       "<table border=\"1\" class=\"dataframe\">\n",
       "  <thead>\n",
       "    <tr style=\"text-align: right;\">\n",
       "      <th></th>\n",
       "      <th>Track</th>\n",
       "      <th>Artist</th>\n",
       "      <th>SpotifyID</th>\n",
       "      <th>danceability</th>\n",
       "      <th>energy</th>\n",
       "      <th>key</th>\n",
       "      <th>mode</th>\n",
       "      <th>speechiness</th>\n",
       "      <th>acousticness</th>\n",
       "      <th>instrumentalness</th>\n",
       "      <th>liveness</th>\n",
       "      <th>valence</th>\n",
       "      <th>tempo</th>\n",
       "      <th>duration_ms</th>\n",
       "      <th>loudness</th>\n",
       "    </tr>\n",
       "  </thead>\n",
       "  <tbody>\n",
       "    <tr>\n",
       "      <th>0</th>\n",
       "      <td>Lucid Dreams</td>\n",
       "      <td>Juice WRLD</td>\n",
       "      <td>285pBltuF7vW8TeWk8hdRR</td>\n",
       "      <td>0.511</td>\n",
       "      <td>0.566</td>\n",
       "      <td>6</td>\n",
       "      <td>0</td>\n",
       "      <td>0.200</td>\n",
       "      <td>0.34900</td>\n",
       "      <td>0.0</td>\n",
       "      <td>0.340</td>\n",
       "      <td>0.218</td>\n",
       "      <td>83.903</td>\n",
       "      <td>239836</td>\n",
       "      <td>-7.230</td>\n",
       "    </tr>\n",
       "    <tr>\n",
       "      <th>1</th>\n",
       "      <td>Better Now</td>\n",
       "      <td>Post Malone</td>\n",
       "      <td>7dt6x5M1jzdTEt8oCbisTK</td>\n",
       "      <td>0.680</td>\n",
       "      <td>0.578</td>\n",
       "      <td>10</td>\n",
       "      <td>1</td>\n",
       "      <td>0.040</td>\n",
       "      <td>0.33100</td>\n",
       "      <td>0.0</td>\n",
       "      <td>0.135</td>\n",
       "      <td>0.341</td>\n",
       "      <td>145.038</td>\n",
       "      <td>231267</td>\n",
       "      <td>-5.804</td>\n",
       "    </tr>\n",
       "    <tr>\n",
       "      <th>2</th>\n",
       "      <td>Drip Too Hard</td>\n",
       "      <td>Lil Baby &amp; Gunna</td>\n",
       "      <td>78QR3Wp35dqAhFEc2qAGjE</td>\n",
       "      <td>0.897</td>\n",
       "      <td>0.662</td>\n",
       "      <td>1</td>\n",
       "      <td>0</td>\n",
       "      <td>0.292</td>\n",
       "      <td>0.08520</td>\n",
       "      <td>0.0</td>\n",
       "      <td>0.534</td>\n",
       "      <td>0.389</td>\n",
       "      <td>112.511</td>\n",
       "      <td>145543</td>\n",
       "      <td>-6.903</td>\n",
       "    </tr>\n",
       "    <tr>\n",
       "      <th>3</th>\n",
       "      <td>Sicko Mode</td>\n",
       "      <td>Travis Scott</td>\n",
       "      <td>2xLMifQCjDGFmkHkpNLD9h</td>\n",
       "      <td>0.834</td>\n",
       "      <td>0.730</td>\n",
       "      <td>8</td>\n",
       "      <td>1</td>\n",
       "      <td>0.222</td>\n",
       "      <td>0.00513</td>\n",
       "      <td>0.0</td>\n",
       "      <td>0.124</td>\n",
       "      <td>0.446</td>\n",
       "      <td>155.008</td>\n",
       "      <td>312820</td>\n",
       "      <td>-3.714</td>\n",
       "    </tr>\n",
       "    <tr>\n",
       "      <th>4</th>\n",
       "      <td>Youngblood</td>\n",
       "      <td>5 Seconds Of Summer</td>\n",
       "      <td>2iUXsYOEPhVqEBwsqP70rE</td>\n",
       "      <td>0.596</td>\n",
       "      <td>0.854</td>\n",
       "      <td>7</td>\n",
       "      <td>0</td>\n",
       "      <td>0.463</td>\n",
       "      <td>0.01690</td>\n",
       "      <td>0.0</td>\n",
       "      <td>0.124</td>\n",
       "      <td>0.152</td>\n",
       "      <td>120.274</td>\n",
       "      <td>203418</td>\n",
       "      <td>-5.114</td>\n",
       "    </tr>\n",
       "  </tbody>\n",
       "</table>\n",
       "</div>"
      ],
      "text/plain": [
       "           Track               Artist               SpotifyID  danceability  \\\n",
       "0   Lucid Dreams           Juice WRLD  285pBltuF7vW8TeWk8hdRR         0.511   \n",
       "1     Better Now          Post Malone  7dt6x5M1jzdTEt8oCbisTK         0.680   \n",
       "2  Drip Too Hard     Lil Baby & Gunna  78QR3Wp35dqAhFEc2qAGjE         0.897   \n",
       "3     Sicko Mode         Travis Scott  2xLMifQCjDGFmkHkpNLD9h         0.834   \n",
       "4     Youngblood  5 Seconds Of Summer  2iUXsYOEPhVqEBwsqP70rE         0.596   \n",
       "\n",
       "   energy  key  mode  speechiness  acousticness  instrumentalness  liveness  \\\n",
       "0   0.566    6     0        0.200       0.34900               0.0     0.340   \n",
       "1   0.578   10     1        0.040       0.33100               0.0     0.135   \n",
       "2   0.662    1     0        0.292       0.08520               0.0     0.534   \n",
       "3   0.730    8     1        0.222       0.00513               0.0     0.124   \n",
       "4   0.854    7     0        0.463       0.01690               0.0     0.124   \n",
       "\n",
       "   valence    tempo  duration_ms  loudness  \n",
       "0    0.218   83.903       239836    -7.230  \n",
       "1    0.341  145.038       231267    -5.804  \n",
       "2    0.389  112.511       145543    -6.903  \n",
       "3    0.446  155.008       312820    -3.714  \n",
       "4    0.152  120.274       203418    -5.114  "
      ]
     },
     "execution_count": 2,
     "metadata": {},
     "output_type": "execute_result"
    }
   ],
   "source": [
    "#load Billboard data set\n",
    "df1=pd.read_csv('BillBoard_Features.csv')\n",
    "df1.head()"
   ]
  },
  {
   "cell_type": "code",
   "execution_count": 3,
   "metadata": {},
   "outputs": [],
   "source": [
    "#remove SpotifyID column\n",
    "df1.drop('SpotifyID',axis=1,inplace=True)"
   ]
  },
  {
   "cell_type": "code",
   "execution_count": 4,
   "metadata": {},
   "outputs": [
    {
     "data": {
      "text/plain": [
       "(9329, 14)"
      ]
     },
     "execution_count": 4,
     "metadata": {},
     "output_type": "execute_result"
    }
   ],
   "source": [
    "df1.shape"
   ]
  },
  {
   "cell_type": "code",
   "execution_count": 5,
   "metadata": {},
   "outputs": [
    {
     "name": "stdout",
     "output_type": "stream",
     "text": [
      "<class 'pandas.core.frame.DataFrame'>\n",
      "RangeIndex: 9329 entries, 0 to 9328\n",
      "Data columns (total 14 columns):\n",
      " #   Column            Non-Null Count  Dtype  \n",
      "---  ------            --------------  -----  \n",
      " 0   Track             9328 non-null   object \n",
      " 1   Artist            9327 non-null   object \n",
      " 2   danceability      9329 non-null   float64\n",
      " 3   energy            9329 non-null   float64\n",
      " 4   key               9329 non-null   int64  \n",
      " 5   mode              9329 non-null   int64  \n",
      " 6   speechiness       9329 non-null   float64\n",
      " 7   acousticness      9329 non-null   float64\n",
      " 8   instrumentalness  9329 non-null   float64\n",
      " 9   liveness          9329 non-null   float64\n",
      " 10  valence           9329 non-null   float64\n",
      " 11  tempo             9329 non-null   float64\n",
      " 12  duration_ms       9329 non-null   int64  \n",
      " 13  loudness          9329 non-null   float64\n",
      "dtypes: float64(9), int64(3), object(2)\n",
      "memory usage: 1020.5+ KB\n"
     ]
    }
   ],
   "source": [
    "df1.info()"
   ]
  },
  {
   "cell_type": "code",
   "execution_count": 6,
   "metadata": {},
   "outputs": [
    {
     "data": {
      "text/plain": [
       "Track               1\n",
       "Artist              2\n",
       "danceability        0\n",
       "energy              0\n",
       "key                 0\n",
       "mode                0\n",
       "speechiness         0\n",
       "acousticness        0\n",
       "instrumentalness    0\n",
       "liveness            0\n",
       "valence             0\n",
       "tempo               0\n",
       "duration_ms         0\n",
       "loudness            0\n",
       "dtype: int64"
      ]
     },
     "execution_count": 6,
     "metadata": {},
     "output_type": "execute_result"
    }
   ],
   "source": [
    "#check for null values\n",
    "df1.isnull().sum()"
   ]
  },
  {
   "cell_type": "code",
   "execution_count": 7,
   "metadata": {},
   "outputs": [
    {
     "data": {
      "image/png": "[encoded data removed]",
      "text/plain": [
       "<Figure size 432x288 with 2 Axes>"
      ]
     },
     "metadata": {
      "needs_background": "light"
     },
     "output_type": "display_data"
    },
    {
     "name": "stdout",
     "output_type": "stream",
     "text": [
      "% of null values \n",
      " Track               0.010719\n",
      "Artist              0.021439\n",
      "danceability        0.000000\n",
      "energy              0.000000\n",
      "key                 0.000000\n",
      "mode                0.000000\n",
      "speechiness         0.000000\n",
      "acousticness        0.000000\n",
      "instrumentalness    0.000000\n",
      "liveness            0.000000\n",
      "valence             0.000000\n",
      "tempo               0.000000\n",
      "duration_ms         0.000000\n",
      "loudness            0.000000\n",
      "dtype: float64\n"
     ]
    }
   ],
   "source": [
    "#visualize null values\n",
    "sns.heatmap(df1.isnull())\n",
    "plt.show()\n",
    "print('% of null values \\n',df1.isnull().sum()*100/df1.shape[0])"
   ]
  },
  {
   "cell_type": "code",
   "execution_count": 8,
   "metadata": {},
   "outputs": [],
   "source": [
    "#since null values are very less 0.01 & 0.02% so we remove those observations\n",
    "df1=df1.dropna()"
   ]
  },
  {
   "cell_type": "code",
   "execution_count": 9,
   "metadata": {},
   "outputs": [
    {
     "data": {
      "text/plain": [
       "Track               0\n",
       "Artist              0\n",
       "danceability        0\n",
       "energy              0\n",
       "key                 0\n",
       "mode                0\n",
       "speechiness         0\n",
       "acousticness        0\n",
       "instrumentalness    0\n",
       "liveness            0\n",
       "valence             0\n",
       "tempo               0\n",
       "duration_ms         0\n",
       "loudness            0\n",
       "dtype: int64"
      ]
     },
     "execution_count": 9,
     "metadata": {},
     "output_type": "execute_result"
    }
   ],
   "source": [
    "#check for null values again\n",
    "df1.isnull().sum()"
   ]
  },
  {
   "cell_type": "code",
   "execution_count": 10,
   "metadata": {
    "scrolled": true
   },
   "outputs": [
    {
     "name": "stdout",
     "output_type": "stream",
     "text": [
      "Track\n",
      "['Lucid Dreams' 'Better Now' 'Drip Too Hard' ... 'Got To Have Your Love'\n",
      " 'All Nite' 'The Arms Of Orion']\n",
      "Artist\n",
      "['Juice WRLD' 'Post Malone' 'Lil Baby & Gunna' ...\n",
      " 'Mantronix Featuring Wondress' 'Entouch Featuring Keith Sweat'\n",
      " 'Prince With Sheena Easton']\n",
      "danceability\n",
      "[ 5.11e-01  6.80e-01  8.97e-01  8.34e-01  5.96e-01  8.16e-01  8.35e-01\n",
      "  7.04e-01  4.77e-01  9.01e-01  7.52e-01  9.12e-01  6.01e-01  4.87e-01\n",
      "  7.29e-01  6.76e-01  7.43e-01  7.50e-01  5.79e-01  7.40e-01  6.66e-01\n",
      "  5.53e-01  7.49e-01  6.99e-01  1.62e-01  3.62e-01  4.89e-01  5.33e-01\n",
      "  8.92e-01  3.23e-01  7.58e-01  4.55e-01  8.21e-01  8.50e-01  5.57e-01\n",
      "  5.44e-01  5.07e-01  7.11e-01  6.16e-01  5.13e-01  4.99e-01  4.86e-01\n",
      "  5.34e-01  8.79e-01  6.20e-01  7.66e-01  7.16e-01  7.55e-01  7.41e-01\n",
      "  6.29e-01  4.34e-01  7.92e-01  7.28e-01  4.85e-01  6.58e-01  8.22e-01\n",
      "  7.69e-01  8.07e-01  7.88e-01  9.29e-01  6.41e-01  5.52e-01  6.78e-01\n",
      "  8.95e-01  7.54e-01  7.46e-01  5.78e-01  5.99e-01  5.86e-01  8.55e-01\n",
      "  6.71e-01  8.30e-01  6.87e-01  5.97e-01  7.85e-01  6.65e-01  5.20e-01\n",
      "  9.39e-01  5.65e-01  6.98e-01  6.38e-01  3.74e-01  7.80e-01  7.10e-01\n",
      "  6.90e-01  8.09e-01  2.72e-01  5.54e-01  9.36e-01  9.07e-01  7.60e-01\n",
      "  6.26e-01  6.37e-01  7.91e-01  9.21e-01  6.32e-01  6.53e-01  6.69e-01\n",
      "  7.99e-01  7.67e-01  8.54e-01  6.22e-01  6.60e-01  4.04e-01  7.07e-01\n",
      "  5.70e-01  6.17e-01  3.53e-01  6.52e-01  8.20e-01  5.88e-01  6.07e-01\n",
      "  7.31e-01  4.28e-01  7.05e-01  7.12e-01  6.43e-01  6.00e-01  8.04e-01\n",
      "  4.60e-01  7.00e-01  7.63e-01  6.89e-01  8.10e-01  6.03e-01  6.72e-01\n",
      "  3.97e-01  4.61e-01  9.25e-01  5.92e-01  5.94e-01  5.14e-01  4.13e-01\n",
      "  7.61e-01  8.88e-01  4.48e-01  5.29e-01  8.75e-01  8.84e-01  8.72e-01\n",
      "  7.75e-01  9.03e-01  8.68e-01  9.33e-01  8.31e-01  6.86e-01  6.57e-01\n",
      "  5.00e-01  5.58e-01  9.34e-01  7.34e-01  6.83e-01  7.33e-01  5.59e-01\n",
      "  8.76e-01  6.77e-01  7.62e-01  6.55e-01  7.83e-01  4.91e-01  4.14e-01\n",
      "  8.13e-01  8.36e-01  7.35e-01  5.85e-01  5.80e-01  3.75e-01  7.09e-01\n",
      "  8.41e-01  7.18e-01  6.25e-01  8.80e-01  6.74e-01  5.15e-01  6.94e-01\n",
      "  7.06e-01  8.23e-01  8.11e-01  7.37e-01  7.19e-01  8.29e-01  8.27e-01\n",
      "  8.51e-01  8.17e-01  5.69e-01  7.38e-01  6.35e-01  7.98e-01  9.17e-01\n",
      "  6.64e-01  6.06e-01  8.69e-01  3.80e-01  8.25e-01  6.75e-01  5.32e-01\n",
      "  7.20e-01  6.05e-01  5.48e-01  6.62e-01  8.01e-01  4.88e-01  8.37e-01\n",
      "  5.56e-01  5.89e-01  3.33e-01  5.60e-01  8.06e-01  9.47e-01  7.64e-01\n",
      "  6.84e-01  4.96e-01  5.37e-01  5.38e-01  4.56e-01  6.13e-01  6.34e-01\n",
      "  8.63e-01  7.25e-01  4.12e-01  4.15e-01  8.24e-01  9.38e-01  8.45e-01\n",
      "  8.73e-01  4.75e-01  8.61e-01  5.68e-01  6.19e-01  7.68e-01  7.47e-01\n",
      "  8.56e-01  6.18e-01  5.55e-01  8.46e-01  8.85e-01  7.27e-01  8.59e-01\n",
      "  8.52e-01  6.81e-01  5.77e-01  5.41e-01  5.82e-01  5.67e-01  7.45e-01\n",
      "  5.84e-01  6.24e-01  6.54e-01  6.63e-01  7.93e-01  7.76e-01  7.82e-01\n",
      "  9.28e-01  8.94e-01  2.77e-01  9.43e-01  7.01e-01  4.43e-01  8.87e-01\n",
      "  6.08e-01  3.35e-01  3.19e-01  7.65e-01  4.39e-01  6.68e-01  8.66e-01\n",
      "  7.57e-01  5.12e-01  3.86e-01  5.43e-01  9.08e-01  5.51e-01  6.61e-01\n",
      "  8.14e-01  8.08e-01  5.76e-01  5.63e-01  3.68e-01  6.36e-01  6.14e-01\n",
      "  7.32e-01  5.98e-01  8.00e-01  8.26e-01  7.36e-01  7.39e-01  6.12e-01\n",
      "  8.53e-01  3.58e-01  7.59e-01  6.50e-01  6.49e-01  8.33e-01  7.56e-01\n",
      "  6.23e-01  2.66e-01  9.02e-01  6.70e-01  6.56e-01  6.73e-01  8.99e-01\n",
      "  5.73e-01  9.65e-01  5.87e-01  7.94e-01  7.84e-01  6.30e-01  4.72e-01\n",
      "  8.18e-01  2.61e-01  3.34e-01  5.25e-01  6.97e-01  7.48e-01  4.64e-01\n",
      "  5.42e-01  5.18e-01  7.79e-01  8.65e-01  4.97e-01  5.16e-01  5.01e-01\n",
      "  5.17e-01  6.40e-01  7.08e-01  5.02e-01  8.77e-01  6.46e-01  9.32e-01\n",
      "  4.33e-01  4.65e-01  4.98e-01  5.36e-01  5.09e-01  4.17e-01  6.85e-01\n",
      "  5.45e-01  8.12e-01  6.33e-01  4.27e-01  6.95e-01  3.57e-01 -9.99e+02\n",
      "  3.92e-01  6.11e-01  7.26e-01  5.21e-01  3.10e-01  4.25e-01  8.39e-01\n",
      "  5.72e-01  5.26e-01  9.41e-01  7.70e-01  3.47e-01  5.22e-01  8.38e-01\n",
      "  6.04e-01  5.49e-01  4.44e-01  9.81e-01  6.51e-01  6.82e-01  4.20e-01\n",
      "  6.96e-01  7.81e-01  9.50e-01  5.28e-01  8.28e-01  6.31e-01  8.43e-01\n",
      "  5.46e-01  7.03e-01  8.98e-01  6.42e-01  3.55e-01  7.44e-01  3.89e-01\n",
      "  3.64e-01  4.07e-01  8.70e-01  5.95e-01  7.72e-01  2.54e-01  6.45e-01\n",
      "  6.02e-01  5.31e-01  4.82e-01  7.86e-01  5.39e-01  8.19e-01  2.80e-01\n",
      "  7.73e-01  7.95e-01  5.05e-01  5.24e-01  4.90e-01  6.47e-01  7.24e-01\n",
      "  7.39e-02  3.69e-01  5.23e-01  6.44e-01  2.81e-01  7.74e-01  5.75e-01\n",
      "  6.09e-01  4.66e-01  4.40e-01  6.88e-01  3.96e-01  5.40e-01  6.28e-01\n",
      "  4.18e-01  3.22e-01  7.87e-01  5.30e-01  6.67e-01  3.94e-01  8.96e-01\n",
      "  5.61e-01  9.09e-01  5.03e-01  4.29e-01  7.22e-01  2.37e-01  4.45e-01\n",
      "  3.95e-01  4.69e-01  8.91e-01  5.74e-01  2.50e-01  3.30e-01  4.26e-01\n",
      "  3.67e-01  7.77e-01  5.90e-01  3.72e-01  4.81e-01  8.93e-01  3.81e-01\n",
      "  9.59e-01  5.27e-01  4.41e-01  5.06e-01  9.26e-01  7.13e-01  3.76e-01\n",
      "  4.01e-01  8.71e-01  7.02e-01  7.97e-01  8.83e-01  3.87e-01  5.08e-01\n",
      "  3.85e-01  4.47e-01  3.39e-01  4.62e-01  9.15e-01  7.30e-01  2.99e-01\n",
      "  3.66e-01  4.53e-01  1.55e-01  2.11e-01  4.83e-01  3.83e-01  2.82e-01\n",
      "  6.15e-01  5.64e-01  4.58e-01  5.83e-01  2.86e-01  4.32e-01  6.21e-01\n",
      "  7.96e-01  7.23e-01  5.81e-01  6.10e-01  2.62e-01  6.93e-01  5.04e-01\n",
      "  8.74e-01  4.57e-01  4.21e-01  6.48e-01  4.76e-01  7.21e-01  7.17e-01\n",
      "  3.79e-01  4.68e-01  8.47e-01  3.59e-01  9.49e-01  4.50e-01  5.66e-01\n",
      "  4.92e-01  3.60e-01  7.53e-01  3.91e-01  5.50e-01  4.84e-01  4.23e-01\n",
      "  5.35e-01  2.79e-01  8.86e-01  3.99e-01  7.15e-01  4.74e-01  7.89e-01\n",
      "  4.22e-01  3.13e-01  4.51e-01  4.37e-01  9.64e-01  4.31e-01  4.67e-01\n",
      "  4.38e-01  2.93e-01  5.91e-01  2.70e-01  3.21e-01  6.59e-01  5.47e-01\n",
      "  7.42e-01  8.58e-01  4.11e-01  3.48e-01  6.39e-01  4.73e-01  6.79e-01\n",
      "  4.94e-01  3.08e-01  3.73e-01  1.44e-01  9.20e-01  4.79e-01  1.37e-01\n",
      "  3.20e-01  4.30e-01  4.93e-01  4.95e-01  4.70e-01  3.78e-01  4.59e-01\n",
      "  3.90e-01  3.65e-01  4.02e-01  3.04e-01  4.09e-01  2.60e-01  8.78e-01\n",
      "  3.70e-01  8.32e-01  3.24e-01  4.54e-01  5.62e-01  2.68e-01  3.45e-01\n",
      "  4.52e-01  3.88e-01  5.10e-01  4.80e-01  7.51e-01  4.46e-01  4.42e-01\n",
      "  6.92e-01  3.46e-01  4.00e-01  4.06e-01  2.56e-01  3.38e-01  4.71e-01\n",
      "  2.91e-01  5.93e-01  3.01e-01  4.16e-01  4.49e-01  5.19e-01  3.56e-01\n",
      "  3.15e-01  3.06e-01  3.02e-01  4.36e-01  3.11e-01  2.36e-01  4.24e-01\n",
      "  4.19e-01  2.31e-01  3.42e-01  4.63e-01  2.63e-01  4.05e-01  3.03e-01\n",
      "  3.36e-01  2.83e-01  9.44e-01  2.95e-01  3.05e-01  3.49e-01  3.98e-01\n",
      "  3.29e-01  3.51e-01  5.71e-01  4.10e-01  3.12e-01  3.28e-01  9.23e-01\n",
      "  4.08e-01  3.71e-01  7.14e-01  3.32e-01  2.78e-01  3.63e-01  6.27e-01\n",
      "  2.00e-01  3.50e-01  2.90e-01  3.26e-01  4.78e-01  9.80e-01  2.53e-01\n",
      "  1.91e-01  1.77e-01  2.09e-01  2.76e-01  8.02e-01  6.91e-01  2.34e-01\n",
      "  2.30e-01  2.39e-01  8.67e-01  2.42e-01  8.49e-01  3.27e-01  8.40e-01\n",
      "  2.89e-01  9.24e-01  7.90e-01  1.63e-01  3.14e-01  1.92e-01  1.36e-01\n",
      "  8.62e-01  8.03e-01  2.96e-01  3.25e-01  1.13e-01  8.15e-01  7.78e-01\n",
      "  7.71e-01  8.57e-01  3.00e-01  2.74e-01  9.06e-01  8.64e-01  2.17e-01\n",
      "  9.67e-01  9.61e-01  9.40e-01  9.51e-01  3.17e-01  2.59e-01  4.35e-01\n",
      "  3.44e-01  9.42e-01  2.02e-01  2.73e-01  2.32e-01  3.77e-01  1.90e-01\n",
      "  8.48e-01  2.67e-01  3.41e-01  8.05e-01  9.62e-01  2.51e-01  9.30e-01\n",
      "  8.82e-01  2.29e-01  9.56e-01  3.18e-01  1.29e-01  9.11e-01  3.82e-01\n",
      "  9.19e-01  2.46e-01  1.75e-01  1.60e-01  2.23e-01  9.14e-01  8.89e-01\n",
      "  3.43e-01  9.35e-01  9.55e-01  9.13e-01  2.41e-01  2.13e-01  8.81e-01\n",
      "  8.44e-01  1.68e-01  9.05e-01  8.90e-01  3.54e-01  9.53e-01  4.03e-01\n",
      "  9.18e-01  2.65e-01  9.27e-01  2.20e-01  2.69e-01  3.16e-01  3.52e-01\n",
      "  8.42e-01  1.76e-01  9.31e-01  2.45e-01  9.45e-01  3.09e-01  2.64e-01\n",
      "  1.93e-01  9.10e-01  2.94e-01  1.53e-01  9.71e-01  8.60e-01  3.07e-01\n",
      "  2.22e-01  3.61e-01  1.89e-01  9.79e-01  1.87e-01  9.66e-01  2.40e-01\n",
      "  9.04e-01  9.22e-01  9.16e-01  1.78e-01  9.68e-01  2.84e-01  2.58e-01\n",
      "  9.00e-01  9.57e-01  9.72e-01  9.60e-01  2.71e-01  3.31e-01  3.84e-01\n",
      "  2.06e-01  9.86e-01  9.75e-01  2.49e-01  2.48e-01  9.63e-01  9.37e-01\n",
      "  9.74e-01  9.46e-01  1.58e-01  3.37e-01  2.44e-01  2.05e-01  1.67e-01]\n",
      "energy\n",
      "[ 5.66e-01  5.78e-01  6.62e-01  7.30e-01  8.54e-01  7.26e-01  6.26e-01\n",
      "  6.11e-01  6.10e-01  5.22e-01  4.88e-01  4.12e-01  7.24e-01  8.33e-01\n",
      "  6.25e-01  8.70e-01  4.04e-01  9.04e-01  6.13e-01  7.28e-01  5.05e-01\n",
      "  5.02e-01  7.94e-01  7.13e-01  1.55e-01  8.82e-01  5.81e-01  9.07e-01\n",
      "  6.51e-01  8.60e-01  5.74e-01  8.97e-01  6.36e-01  7.85e-01  2.79e-01\n",
      "  3.72e-01  7.96e-01  4.38e-01  8.67e-01  6.61e-01  7.97e-01  6.32e-01\n",
      "  5.52e-01  7.84e-01  6.92e-01  7.23e-01  7.75e-01  7.69e-01  3.70e-01\n",
      "  4.64e-01  8.31e-01  2.82e-01  7.43e-01  6.02e-01  3.06e-01  5.35e-01\n",
      "  4.61e-01  5.58e-01  5.50e-01  5.71e-01  7.65e-01  5.98e-01  7.03e-01\n",
      "  5.79e-01  5.62e-01  6.66e-01  8.39e-01  6.15e-01  6.44e-01  6.94e-01\n",
      "  4.48e-01  9.09e-01  7.87e-01  5.29e-01  5.46e-01  8.45e-01  7.21e-01\n",
      "  5.54e-01  7.89e-01  5.38e-01  5.51e-01  8.55e-01  7.83e-01  3.67e-01\n",
      "  7.42e-01  8.08e-01  4.62e-01  7.37e-01  2.38e-01  5.96e-01  5.85e-01\n",
      "  6.40e-01  6.84e-01  8.80e-01  8.62e-01  5.37e-01  8.04e-01  8.59e-01\n",
      "  3.08e-01  5.20e-01  8.25e-01  5.75e-01  4.63e-01  7.12e-01  6.86e-01\n",
      "  7.01e-01  6.09e-01  7.55e-01  3.10e-01  7.29e-01  5.68e-01  5.67e-01\n",
      "  6.45e-01  8.11e-01  4.03e-01  8.16e-01  4.81e-01  6.38e-01  6.88e-01\n",
      "  7.63e-01  7.31e-01  4.60e-01  6.28e-01  5.82e-01  8.66e-01  6.55e-01\n",
      "  3.03e-01  7.38e-01  7.81e-01  5.93e-01  7.49e-01  6.93e-01  5.33e-01\n",
      "  6.77e-01  4.74e-01  8.26e-01  6.90e-01  3.91e-01  8.49e-01  4.82e-01\n",
      "  2.71e-01  4.73e-01  5.03e-01  5.48e-01  3.20e-01  7.82e-01  2.15e-01\n",
      "  7.98e-01  5.47e-01  4.15e-01  5.70e-01  7.76e-01  6.78e-01  3.04e-01\n",
      "  5.80e-01  5.19e-01  5.56e-01  7.00e-01  6.03e-01  8.40e-01  4.57e-01\n",
      "  7.19e-01  4.16e-01  5.44e-01  5.69e-01  5.97e-01  5.73e-01  4.69e-01\n",
      "  7.51e-01  5.04e-01  6.82e-01  4.19e-01  4.02e-01  3.96e-01  6.46e-01\n",
      "  7.67e-01  5.36e-01  6.33e-01  4.28e-01  6.97e-01  8.06e-01  7.32e-01\n",
      "  4.47e-01  4.80e-01  4.97e-01  5.27e-01  6.58e-01  7.77e-01  8.24e-01\n",
      "  3.24e-01  6.21e-01  7.33e-01  6.79e-01  6.43e-01  5.91e-01  6.59e-01\n",
      "  8.15e-01  6.75e-01  6.67e-01  3.85e-01  4.54e-01  6.48e-01  4.87e-01\n",
      "  8.22e-01  4.72e-01  7.14e-01  7.95e-01  6.37e-01  5.49e-01  8.14e-01\n",
      "  7.88e-01  7.11e-01  9.41e-01  6.83e-01  5.84e-01  5.18e-01  6.00e-01\n",
      "  5.64e-01  6.68e-01  6.57e-01  7.36e-01  8.92e-01  4.37e-01  6.19e-01\n",
      "  3.13e-01  4.34e-01  5.39e-01  5.61e-01  6.63e-01  7.52e-01  8.23e-01\n",
      "  7.45e-01  6.07e-01  4.71e-01  5.32e-01  6.52e-01  7.22e-01  6.41e-01\n",
      "  7.20e-01  4.13e-01  6.91e-01  5.23e-01  4.78e-01  7.27e-01  8.21e-01\n",
      "  4.77e-01  4.52e-01  5.77e-01  7.68e-01  7.80e-01  6.27e-01  4.41e-01\n",
      "  3.46e-01  6.17e-01  3.94e-01  3.66e-01  4.58e-01  7.64e-01  6.34e-01\n",
      "  5.88e-01  7.09e-01  9.28e-01  2.10e-01  3.75e-01  6.06e-01  6.81e-01\n",
      "  8.44e-01  6.47e-01  6.18e-01  4.24e-01  2.32e-01  3.41e-01  4.92e-01\n",
      "  8.01e-01  7.50e-01  8.87e-01  6.60e-01  5.28e-01  3.90e-01  4.25e-01\n",
      "  4.98e-01  6.49e-01  8.48e-01  4.49e-01  8.34e-01  7.46e-01  5.57e-01\n",
      "  9.21e-01  7.47e-01  3.47e-01  3.55e-01  6.22e-01  7.56e-01  7.18e-01\n",
      "  5.13e-01  5.72e-01  2.51e-01  7.44e-01  6.42e-01  6.73e-01  6.89e-01\n",
      "  1.56e-01  2.04e-01  1.97e-01  9.17e-01  8.73e-01  5.14e-01  8.96e-01\n",
      "  7.70e-01  4.14e-01  8.86e-01  8.47e-01  7.35e-01  8.63e-01  8.64e-01\n",
      "  6.08e-01  9.03e-01  6.95e-01  8.03e-01  8.52e-01  5.06e-01  7.05e-01\n",
      "  8.13e-01  9.26e-01  6.87e-01  4.89e-01  5.95e-01  2.45e-01  8.36e-01\n",
      "  7.39e-01  1.96e-01  6.12e-01  3.14e-01  6.54e-01  7.92e-01  5.40e-01\n",
      "  8.79e-01  7.02e-01  3.37e-01  4.46e-01  4.08e-01  6.45e-02  4.45e-01\n",
      "  8.12e-01  8.09e-01  7.71e-01  9.47e-01  9.40e-01  8.76e-01  3.57e-01\n",
      "  5.92e-01  2.62e-01  8.38e-01  8.18e-01  4.79e-01  4.21e-01 -9.99e+02\n",
      "  4.91e-01  4.56e-01  8.05e-01  2.83e-01  8.00e-01  4.23e-01  3.73e-01\n",
      "  5.21e-01  6.31e-01  2.34e-01  5.83e-01  3.35e-01  2.29e-01  3.86e-01\n",
      "  2.42e-01  4.39e-01  7.60e-01  8.91e-01  8.19e-01  4.17e-01  7.62e-01\n",
      "  4.96e-01  4.01e-01  4.93e-01  1.73e-01  9.19e-01  7.04e-01  8.74e-01\n",
      "  5.60e-01  9.53e-01  3.59e-01  7.34e-01  7.07e-01  3.77e-01  4.30e-01\n",
      "  6.65e-01  3.78e-01  4.75e-01  4.85e-01  5.31e-01  5.25e-01  7.25e-01\n",
      "  4.33e-01  8.85e-01  6.76e-01  5.86e-01  6.35e-01  8.07e-01  6.98e-01\n",
      "  9.13e-01  9.39e-01  5.24e-01  3.44e-01  3.97e-01  4.31e-01  5.90e-01\n",
      "  4.68e-01  8.89e-01  8.57e-01  7.17e-01  5.45e-01  9.81e-01  7.99e-01\n",
      "  8.41e-01  2.95e-01  6.01e-01  6.39e-01  8.84e-01  7.53e-01  5.76e-01\n",
      "  3.88e-01  2.87e-01  4.55e-01  8.83e-01  7.86e-01  9.16e-01  3.11e-01\n",
      "  9.33e-01  5.65e-02  7.40e-01  7.06e-01  9.66e-01  2.80e-01  3.23e-01\n",
      "  7.93e-01  6.74e-01  8.43e-01  5.43e-01  2.52e-01  7.54e-01  8.78e-01\n",
      "  9.89e-01  6.70e-01  5.89e-01  4.99e-01  4.51e-01  5.65e-01  8.65e-01\n",
      "  3.89e-01  5.94e-01  7.66e-01  8.32e-01  5.17e-01  6.80e-01  9.24e-01\n",
      "  5.26e-01  6.99e-01  6.64e-01  6.56e-01  9.27e-01  8.90e-01  9.37e-01\n",
      "  8.50e-01  7.59e-01  8.61e-01  3.01e-01  4.43e-01  7.91e-01  2.53e-01\n",
      "  2.85e-01  3.42e-01  6.72e-01  5.16e-01  4.10e-01  8.75e-01  8.53e-01\n",
      "  2.56e-01  3.79e-01  2.23e-01  3.05e-01  2.96e-01  3.63e-01  9.02e-01\n",
      "  4.94e-01  7.79e-01  9.76e-01  7.90e-01  2.91e-01  8.02e-01  9.61e-01\n",
      "  8.95e-01  3.93e-01  6.53e-01  4.86e-01  7.61e-01  2.25e-01  9.20e-01\n",
      "  5.41e-01  8.68e-01  1.90e-01  3.87e-01  3.33e-01  1.92e-01  4.06e-01\n",
      "  7.57e-01  8.58e-01  5.63e-01  5.30e-01  4.22e-01  4.20e-01  9.11e-01\n",
      "  2.57e-01  9.52e-01  8.10e-01  6.29e-01  4.67e-01  6.50e-01  6.23e-01\n",
      "  8.93e-01  5.10e-01  5.07e-01  5.00e-01  5.08e-01  6.05e-01  3.76e-01\n",
      "  2.35e-01  2.30e-01  9.08e-01  6.71e-01  2.39e-01  4.84e-01  1.78e-01\n",
      "  3.25e-01  7.16e-01  9.59e-01  2.64e-01  4.76e-01  9.51e-01  5.55e-01\n",
      "  9.15e-01  8.72e-01  8.35e-01  8.88e-01  8.17e-01  8.77e-01  9.35e-01\n",
      "  6.04e-01  9.25e-01  8.56e-01  5.59e-01  8.20e-01  7.15e-01  6.14e-01\n",
      "  7.08e-01  3.29e-01  7.10e-01  8.30e-01  4.83e-01  9.60e-01  8.46e-01\n",
      "  3.21e-01  3.51e-01  8.71e-01  1.46e-01  9.29e-01  3.61e-01  6.24e-01\n",
      "  7.72e-01  8.94e-01  1.51e-01  4.35e-01  9.36e-01  9.71e-02  9.55e-01\n",
      "  8.99e-01  4.11e-01  6.96e-01  3.40e-01  9.91e-01  5.12e-01  9.23e-01\n",
      "  2.49e-01  4.29e-01  8.37e-01  5.09e-01  2.19e-01  7.41e-01  9.32e-01\n",
      "  9.54e-01  8.42e-01  1.20e-01  4.27e-01  7.74e-01  4.50e-01  9.56e-01\n",
      "  9.12e-01  4.66e-01  7.78e-01  3.99e-01  4.70e-01  6.85e-01  9.34e-01\n",
      "  9.77e-01  7.73e-01  9.64e-01  2.22e-01  2.89e-01  1.77e-01  3.07e-01\n",
      "  3.39e-01  7.39e-02  1.19e-01  4.44e-01  4.05e-01  3.28e-01  9.31e-01\n",
      "  2.76e-01  9.72e-01  2.55e-01  5.99e-01  9.14e-01  4.65e-01  9.18e-01\n",
      "  9.80e-01  9.00e-01  3.82e-01  9.44e-01  1.76e-01  4.07e-01  9.69e-01\n",
      "  3.30e-01  7.48e-01  2.14e-01  9.22e-01  9.65e-01  9.01e-01  9.48e-01\n",
      "  9.58e-01  2.60e-01  2.90e-01  9.50e-01  9.67e-01  9.06e-01  9.96e-01\n",
      "  3.15e-01  3.71e-01  8.28e-01  6.20e-01  3.64e-01  3.81e-01  3.84e-01\n",
      "  9.42e-01  3.74e-01  3.58e-01  6.22e-02  9.84e-01  3.48e-01  3.56e-01\n",
      "  2.67e-01  4.00e-01  3.95e-01  6.69e-01  3.54e-01  8.69e-01  9.05e-01\n",
      "  3.69e-01  3.83e-01  4.18e-01  2.54e-01  3.62e-01  9.43e-01  2.61e-01\n",
      "  1.27e-01  9.86e-01  3.00e-01  9.49e-01  7.58e-01  3.52e-01  1.95e-01\n",
      "  9.75e-01  4.32e-01  9.10e-01  9.38e-01  3.98e-01  3.22e-01  4.53e-01\n",
      "  8.27e-01  8.98e-01  3.68e-01  2.37e-01  1.52e-01  9.45e-01  4.40e-01\n",
      "  1.07e-01  5.01e-01  1.74e-01  2.92e-01  9.78e-01  9.73e-01  5.87e-01\n",
      "  3.36e-01  6.16e-01  9.57e-01  4.42e-01  4.95e-01  9.83e-01  2.50e-01\n",
      "  5.15e-01  9.93e-01  3.02e-01  9.62e-01  2.17e-01  8.29e-01  9.85e-01\n",
      "  2.59e-01  2.84e-01  9.63e-01  8.51e-01  9.30e-01  1.79e-01  3.26e-01\n",
      "  2.26e-01  2.99e-01  9.88e-01  5.11e-01  2.03e-01  1.83e-01  9.74e-01\n",
      "  9.68e-01  1.01e-01  4.26e-01  6.30e-01  2.97e-01  9.90e-01  9.46e-01\n",
      "  3.65e-01  1.32e-01  9.71e-01  8.81e-01  9.70e-01  9.87e-01  5.42e-01\n",
      "  3.16e-01  1.69e-01  2.65e-01  1.36e-01  4.90e-01  2.73e-01  2.47e-01\n",
      "  3.43e-01  3.92e-01  5.53e-01  2.81e-01  3.18e-01  2.69e-03  2.58e-01\n",
      "  9.79e-01  2.68e-01  3.49e-01  4.36e-01  7.44e-02  5.34e-01  4.59e-01\n",
      "  1.70e-01  1.61e-01  3.17e-01  3.34e-01  3.12e-01  3.80e-01  8.80e-02\n",
      "  1.53e-01  1.86e-01  3.32e-01  9.95e-01  2.23e-02  3.60e-01  3.31e-01\n",
      "  2.41e-01  1.81e-01  1.49e-01  1.98e-01  2.20e-01  2.01e-01  9.97e-01\n",
      "  2.69e-01  4.09e-01  1.26e-01  2.98e-01  3.19e-01  2.05e-01  3.53e-01\n",
      "  3.45e-01  3.38e-01  1.60e-01  9.82e-01  2.77e-01  1.34e-01  2.11e-01\n",
      "  1.24e-01  3.09e-01  2.27e-01  2.06e-01  2.94e-01  2.66e-01  2.75e-01\n",
      "  1.33e-01  2.72e-01  7.75e-02  2.43e-01  2.86e-01  1.21e-01  3.27e-01\n",
      "  1.57e-01  1.50e-01  6.12e-02  2.28e-01  2.13e-03  1.58e-03  6.01e-02\n",
      "  2.08e-01  4.76e-02  3.50e-01  1.59e-01  2.78e-01  1.89e-01  5.46e-03\n",
      "  2.24e-01  3.25e-02  1.85e-01  1.08e-01  1.38e-01]\n",
      "key\n",
      "[   6   10    1    8    7    5    2   11    4    9    0    3 -999]\n",
      "mode\n",
      "[   0    1 -999]\n",
      "speechiness\n",
      "[0.2    0.04   0.292  ... 0.0819 0.0811 0.0753]\n",
      "acousticness\n",
      "[0.349   0.331   0.0852  ... 0.00484 0.531   0.838  ]\n",
      "instrumentalness\n",
      "[0.00e+00 6.00e-05 9.11e-06 ... 5.40e-06 8.65e-02 9.99e-06]\n",
      "liveness\n",
      "[0.34   0.135  0.534  ... 0.909  0.816  0.0507]\n",
      "valence\n",
      "[0.218  0.341  0.389  ... 0.0867 0.0833 0.0632]\n",
      "tempo\n",
      "[ 83.903 145.038 112.511 ... 105.632 107.598 129.693]\n",
      "duration_ms\n",
      "[239836 231267 145543 ... 383333 368467 302973]\n",
      "loudness\n",
      "[ -7.23   -5.804  -6.903 ... -13.669 -13.04  -14.674]\n"
     ]
    }
   ],
   "source": [
    "#now we check for unique values so that we will get idea that we are \n",
    "#having any special character or value inplace of Null values\n",
    "for col in df1:\n",
    "    print(col)\n",
    "    print(df1[col].unique())"
   ]
  },
  {
   "cell_type": "code",
   "execution_count": 11,
   "metadata": {},
   "outputs": [],
   "source": [
    "#so we have -999 value in Mode and key column \n",
    "#mode column should contain values 0,1 so we have to replace -999 as null\n",
    "df1['mode'].replace(-999,np.nan,inplace=True)"
   ]
  },
  {
   "cell_type": "code",
   "execution_count": 12,
   "metadata": {},
   "outputs": [
    {
     "data": {
      "text/plain": [
       "Track                0\n",
       "Artist               0\n",
       "danceability         0\n",
       "energy               0\n",
       "key                  0\n",
       "mode                10\n",
       "speechiness          0\n",
       "acousticness         0\n",
       "instrumentalness     0\n",
       "liveness             0\n",
       "valence              0\n",
       "tempo                0\n",
       "duration_ms          0\n",
       "loudness             0\n",
       "dtype: int64"
      ]
     },
     "execution_count": 12,
     "metadata": {},
     "output_type": "execute_result"
    }
   ],
   "source": [
    "df1.isnull().sum()"
   ]
  },
  {
   "cell_type": "code",
   "execution_count": 13,
   "metadata": {},
   "outputs": [],
   "source": [
    "#so we got 10 observations having null values\n",
    "#since mode is target variable\n",
    "#so we remove null values from dataset instead of replacing with mean or median\n",
    "df1=df1.dropna()"
   ]
  },
  {
   "cell_type": "code",
   "execution_count": 14,
   "metadata": {},
   "outputs": [
    {
     "data": {
      "text/plain": [
       "Track               0\n",
       "Artist              0\n",
       "danceability        0\n",
       "energy              0\n",
       "key                 0\n",
       "mode                0\n",
       "speechiness         0\n",
       "acousticness        0\n",
       "instrumentalness    0\n",
       "liveness            0\n",
       "valence             0\n",
       "tempo               0\n",
       "duration_ms         0\n",
       "loudness            0\n",
       "dtype: int64"
      ]
     },
     "execution_count": 14,
     "metadata": {},
     "output_type": "execute_result"
    }
   ],
   "source": [
    "df1.isnull().sum()"
   ]
  },
  {
   "cell_type": "code",
   "execution_count": 15,
   "metadata": {
    "scrolled": true
   },
   "outputs": [
    {
     "name": "stdout",
     "output_type": "stream",
     "text": [
      "Track\n",
      "['Lucid Dreams' 'Better Now' 'Drip Too Hard' ... 'Got To Have Your Love'\n",
      " 'All Nite' 'The Arms Of Orion']\n",
      "Artist\n",
      "['Juice WRLD' 'Post Malone' 'Lil Baby & Gunna' ...\n",
      " 'Mantronix Featuring Wondress' 'Entouch Featuring Keith Sweat'\n",
      " 'Prince With Sheena Easton']\n",
      "danceability\n",
      "[0.511  0.68   0.897  0.834  0.596  0.816  0.835  0.704  0.477  0.901\n",
      " 0.752  0.912  0.601  0.487  0.729  0.676  0.743  0.75   0.579  0.74\n",
      " 0.666  0.553  0.749  0.699  0.162  0.362  0.489  0.533  0.892  0.323\n",
      " 0.758  0.455  0.821  0.85   0.557  0.544  0.507  0.711  0.616  0.513\n",
      " 0.499  0.486  0.534  0.879  0.62   0.766  0.716  0.755  0.741  0.629\n",
      " 0.434  0.792  0.728  0.485  0.658  0.822  0.769  0.807  0.788  0.929\n",
      " 0.641  0.552  0.678  0.895  0.754  0.746  0.578  0.599  0.586  0.855\n",
      " 0.671  0.83   0.687  0.597  0.785  0.665  0.52   0.939  0.565  0.698\n",
      " 0.638  0.374  0.78   0.71   0.69   0.809  0.272  0.554  0.936  0.907\n",
      " 0.76   0.626  0.637  0.791  0.921  0.632  0.653  0.669  0.799  0.767\n",
      " 0.854  0.622  0.66   0.404  0.707  0.57   0.617  0.353  0.652  0.82\n",
      " 0.588  0.607  0.731  0.428  0.705  0.712  0.643  0.6    0.804  0.46\n",
      " 0.7    0.763  0.689  0.81   0.603  0.672  0.397  0.461  0.925  0.592\n",
      " 0.594  0.514  0.413  0.761  0.888  0.448  0.529  0.875  0.884  0.872\n",
      " 0.775  0.903  0.868  0.933  0.831  0.686  0.657  0.5    0.558  0.934\n",
      " 0.734  0.683  0.733  0.559  0.876  0.677  0.762  0.655  0.783  0.491\n",
      " 0.414  0.813  0.836  0.735  0.585  0.58   0.375  0.709  0.841  0.718\n",
      " 0.625  0.88   0.674  0.515  0.694  0.706  0.823  0.811  0.737  0.719\n",
      " 0.829  0.827  0.851  0.817  0.569  0.738  0.635  0.798  0.917  0.664\n",
      " 0.606  0.869  0.38   0.825  0.675  0.532  0.72   0.605  0.548  0.662\n",
      " 0.801  0.488  0.837  0.556  0.589  0.333  0.56   0.806  0.947  0.764\n",
      " 0.684  0.496  0.537  0.538  0.456  0.613  0.634  0.863  0.725  0.412\n",
      " 0.415  0.824  0.938  0.845  0.873  0.475  0.861  0.568  0.619  0.768\n",
      " 0.747  0.856  0.618  0.555  0.846  0.885  0.727  0.859  0.852  0.681\n",
      " 0.577  0.541  0.582  0.567  0.745  0.584  0.624  0.654  0.663  0.793\n",
      " 0.776  0.782  0.928  0.894  0.277  0.943  0.701  0.443  0.887  0.608\n",
      " 0.335  0.319  0.765  0.439  0.668  0.866  0.757  0.512  0.386  0.543\n",
      " 0.908  0.551  0.661  0.814  0.808  0.576  0.563  0.368  0.636  0.614\n",
      " 0.732  0.598  0.8    0.826  0.736  0.739  0.612  0.853  0.358  0.759\n",
      " 0.65   0.649  0.833  0.756  0.623  0.266  0.902  0.67   0.656  0.673\n",
      " 0.899  0.573  0.965  0.587  0.794  0.784  0.63   0.472  0.818  0.261\n",
      " 0.334  0.525  0.697  0.748  0.464  0.542  0.518  0.779  0.865  0.497\n",
      " 0.516  0.501  0.517  0.64   0.708  0.502  0.877  0.646  0.932  0.433\n",
      " 0.465  0.498  0.536  0.509  0.417  0.685  0.545  0.812  0.633  0.427\n",
      " 0.695  0.357  0.392  0.611  0.726  0.521  0.31   0.425  0.839  0.572\n",
      " 0.526  0.941  0.77   0.347  0.522  0.838  0.604  0.549  0.444  0.981\n",
      " 0.651  0.682  0.42   0.696  0.781  0.95   0.528  0.828  0.631  0.843\n",
      " 0.546  0.703  0.898  0.642  0.355  0.744  0.389  0.364  0.407  0.87\n",
      " 0.595  0.772  0.254  0.645  0.602  0.531  0.482  0.786  0.539  0.819\n",
      " 0.28   0.773  0.795  0.505  0.524  0.49   0.647  0.724  0.0739 0.369\n",
      " 0.523  0.644  0.281  0.774  0.575  0.609  0.466  0.44   0.688  0.396\n",
      " 0.54   0.628  0.418  0.322  0.787  0.53   0.667  0.394  0.896  0.561\n",
      " 0.909  0.503  0.429  0.722  0.237  0.445  0.395  0.469  0.891  0.574\n",
      " 0.25   0.33   0.426  0.367  0.777  0.59   0.372  0.481  0.893  0.381\n",
      " 0.959  0.527  0.441  0.506  0.926  0.713  0.376  0.401  0.871  0.702\n",
      " 0.797  0.883  0.387  0.508  0.385  0.447  0.339  0.462  0.915  0.73\n",
      " 0.299  0.366  0.453  0.155  0.211  0.483  0.383  0.282  0.615  0.564\n",
      " 0.458  0.583  0.286  0.432  0.621  0.796  0.723  0.581  0.61   0.262\n",
      " 0.693  0.504  0.874  0.457  0.421  0.648  0.476  0.721  0.717  0.379\n",
      " 0.468  0.847  0.359  0.949  0.45   0.566  0.492  0.36   0.753  0.391\n",
      " 0.55   0.484  0.423  0.535  0.279  0.886  0.399  0.715  0.474  0.789\n",
      " 0.422  0.313  0.451  0.437  0.964  0.431  0.467  0.438  0.293  0.591\n",
      " 0.27   0.321  0.659  0.547  0.742  0.858  0.411  0.348  0.639  0.473\n",
      " 0.679  0.494  0.308  0.373  0.144  0.92   0.479  0.137  0.32   0.43\n",
      " 0.493  0.495  0.47   0.378  0.459  0.39   0.365  0.402  0.304  0.409\n",
      " 0.26   0.878  0.37   0.832  0.324  0.454  0.562  0.268  0.345  0.452\n",
      " 0.388  0.51   0.48   0.751  0.446  0.442  0.692  0.346  0.4    0.406\n",
      " 0.256  0.338  0.471  0.291  0.593  0.301  0.416  0.449  0.519  0.356\n",
      " 0.315  0.306  0.302  0.436  0.311  0.236  0.424  0.419  0.231  0.342\n",
      " 0.463  0.263  0.405  0.303  0.336  0.283  0.944  0.295  0.305  0.349\n",
      " 0.398  0.329  0.351  0.571  0.41   0.312  0.328  0.923  0.408  0.371\n",
      " 0.714  0.332  0.278  0.363  0.627  0.2    0.35   0.29   0.326  0.478\n",
      " 0.98   0.253  0.191  0.177  0.209  0.276  0.802  0.691  0.234  0.23\n",
      " 0.239  0.867  0.242  0.849  0.327  0.84   0.289  0.924  0.79   0.163\n",
      " 0.314  0.192  0.136  0.862  0.803  0.296  0.325  0.113  0.815  0.778\n",
      " 0.771  0.857  0.3    0.274  0.906  0.864  0.217  0.967  0.961  0.94\n",
      " 0.951  0.317  0.259  0.435  0.344  0.942  0.202  0.273  0.232  0.377\n",
      " 0.19   0.848  0.267  0.341  0.805  0.962  0.251  0.93   0.882  0.229\n",
      " 0.956  0.318  0.129  0.911  0.382  0.919  0.246  0.175  0.16   0.223\n",
      " 0.914  0.889  0.343  0.935  0.955  0.913  0.241  0.213  0.881  0.844\n",
      " 0.168  0.905  0.89   0.354  0.953  0.403  0.918  0.265  0.927  0.22\n",
      " 0.269  0.316  0.352  0.842  0.176  0.931  0.245  0.945  0.309  0.264\n",
      " 0.193  0.91   0.294  0.153  0.971  0.86   0.307  0.222  0.361  0.189\n",
      " 0.979  0.187  0.966  0.24   0.904  0.922  0.916  0.178  0.968  0.284\n",
      " 0.258  0.9    0.957  0.972  0.96   0.271  0.331  0.384  0.206  0.986\n",
      " 0.975  0.249  0.248  0.963  0.937  0.974  0.946  0.158  0.337  0.244\n",
      " 0.205  0.167 ]\n",
      "energy\n",
      "[0.566   0.578   0.662   0.73    0.854   0.726   0.626   0.611   0.61\n",
      " 0.522   0.488   0.412   0.724   0.833   0.625   0.87    0.404   0.904\n",
      " 0.613   0.728   0.505   0.502   0.794   0.713   0.155   0.882   0.581\n",
      " 0.907   0.651   0.86    0.574   0.897   0.636   0.785   0.279   0.372\n",
      " 0.796   0.438   0.867   0.661   0.797   0.632   0.552   0.784   0.692\n",
      " 0.723   0.775   0.769   0.37    0.464   0.831   0.282   0.743   0.602\n",
      " 0.306   0.535   0.461   0.558   0.55    0.571   0.765   0.598   0.703\n",
      " 0.579   0.562   0.666   0.839   0.615   0.644   0.694   0.448   0.909\n",
      " 0.787   0.529   0.546   0.845   0.721   0.554   0.789   0.538   0.551\n",
      " 0.855   0.783   0.367   0.742   0.808   0.462   0.737   0.238   0.596\n",
      " 0.585   0.64    0.684   0.88    0.862   0.537   0.804   0.859   0.308\n",
      " 0.52    0.825   0.575   0.463   0.712   0.686   0.701   0.609   0.755\n",
      " 0.31    0.729   0.568   0.567   0.645   0.811   0.403   0.816   0.481\n",
      " 0.638   0.688   0.763   0.731   0.46    0.628   0.582   0.866   0.655\n",
      " 0.303   0.738   0.781   0.593   0.749   0.693   0.533   0.677   0.474\n",
      " 0.826   0.69    0.391   0.849   0.482   0.271   0.473   0.503   0.548\n",
      " 0.32    0.782   0.215   0.798   0.547   0.415   0.57    0.776   0.678\n",
      " 0.304   0.58    0.519   0.556   0.7     0.603   0.84    0.457   0.719\n",
      " 0.416   0.544   0.569   0.597   0.573   0.469   0.751   0.504   0.682\n",
      " 0.419   0.402   0.396   0.646   0.767   0.536   0.633   0.428   0.697\n",
      " 0.806   0.732   0.447   0.48    0.497   0.527   0.658   0.777   0.824\n",
      " 0.324   0.621   0.733   0.679   0.643   0.591   0.659   0.815   0.675\n",
      " 0.667   0.385   0.454   0.648   0.487   0.822   0.472   0.714   0.795\n",
      " 0.637   0.549   0.814   0.788   0.711   0.941   0.683   0.584   0.518\n",
      " 0.6     0.564   0.668   0.657   0.736   0.892   0.437   0.619   0.313\n",
      " 0.434   0.539   0.561   0.663   0.752   0.823   0.745   0.607   0.471\n",
      " 0.532   0.652   0.722   0.641   0.72    0.413   0.691   0.523   0.478\n",
      " 0.727   0.821   0.477   0.452   0.577   0.768   0.78    0.627   0.441\n",
      " 0.346   0.617   0.394   0.366   0.458   0.764   0.634   0.588   0.709\n",
      " 0.928   0.21    0.375   0.606   0.681   0.844   0.647   0.618   0.424\n",
      " 0.232   0.341   0.492   0.801   0.75    0.887   0.66    0.528   0.39\n",
      " 0.425   0.498   0.649   0.848   0.449   0.834   0.746   0.557   0.921\n",
      " 0.747   0.347   0.355   0.622   0.756   0.718   0.513   0.572   0.251\n",
      " 0.744   0.642   0.673   0.689   0.156   0.204   0.197   0.917   0.873\n",
      " 0.514   0.896   0.77    0.414   0.886   0.847   0.735   0.863   0.864\n",
      " 0.608   0.903   0.695   0.803   0.852   0.506   0.705   0.813   0.926\n",
      " 0.687   0.489   0.595   0.245   0.836   0.739   0.196   0.612   0.314\n",
      " 0.654   0.792   0.54    0.879   0.702   0.337   0.446   0.408   0.0645\n",
      " 0.445   0.812   0.809   0.771   0.947   0.94    0.876   0.357   0.592\n",
      " 0.262   0.838   0.818   0.479   0.421   0.491   0.456   0.805   0.283\n",
      " 0.8     0.423   0.373   0.521   0.631   0.234   0.583   0.335   0.229\n",
      " 0.386   0.242   0.439   0.76    0.891   0.819   0.417   0.762   0.496\n",
      " 0.401   0.493   0.173   0.919   0.704   0.874   0.56    0.953   0.359\n",
      " 0.734   0.707   0.377   0.43    0.665   0.378   0.475   0.485   0.531\n",
      " 0.525   0.725   0.433   0.885   0.676   0.586   0.635   0.807   0.698\n",
      " 0.913   0.939   0.524   0.344   0.397   0.431   0.59    0.468   0.889\n",
      " 0.857   0.717   0.545   0.981   0.799   0.841   0.295   0.601   0.639\n",
      " 0.884   0.753   0.576   0.388   0.287   0.455   0.883   0.786   0.916\n",
      " 0.311   0.933   0.0565  0.74    0.706   0.966   0.28    0.323   0.793\n",
      " 0.674   0.843   0.543   0.252   0.754   0.878   0.989   0.67    0.589\n",
      " 0.499   0.451   0.565   0.865   0.389   0.594   0.766   0.832   0.517\n",
      " 0.68    0.924   0.526   0.699   0.664   0.656   0.927   0.89    0.937\n",
      " 0.85    0.759   0.861   0.301   0.443   0.791   0.253   0.285   0.342\n",
      " 0.672   0.516   0.41    0.875   0.853   0.256   0.379   0.223   0.305\n",
      " 0.296   0.363   0.902   0.494   0.779   0.976   0.79    0.291   0.802\n",
      " 0.961   0.895   0.393   0.653   0.486   0.761   0.225   0.92    0.541\n",
      " 0.868   0.19    0.387   0.333   0.192   0.406   0.757   0.858   0.563\n",
      " 0.53    0.422   0.42    0.911   0.257   0.952   0.81    0.629   0.467\n",
      " 0.65    0.623   0.893   0.51    0.507   0.5     0.508   0.605   0.376\n",
      " 0.235   0.23    0.908   0.671   0.239   0.484   0.178   0.325   0.716\n",
      " 0.959   0.264   0.476   0.951   0.555   0.915   0.872   0.835   0.888\n",
      " 0.817   0.877   0.935   0.604   0.925   0.856   0.559   0.82    0.715\n",
      " 0.614   0.708   0.329   0.71    0.83    0.483   0.96    0.846   0.321\n",
      " 0.351   0.871   0.146   0.929   0.361   0.624   0.772   0.894   0.151\n",
      " 0.435   0.936   0.0971  0.955   0.899   0.411   0.696   0.34    0.991\n",
      " 0.512   0.923   0.249   0.429   0.837   0.509   0.219   0.741   0.932\n",
      " 0.954   0.842   0.12    0.427   0.774   0.45    0.956   0.912   0.466\n",
      " 0.778   0.399   0.47    0.685   0.934   0.977   0.773   0.964   0.222\n",
      " 0.289   0.177   0.307   0.339   0.0739  0.119   0.444   0.405   0.328\n",
      " 0.931   0.276   0.972   0.255   0.599   0.914   0.465   0.918   0.98\n",
      " 0.9     0.382   0.944   0.176   0.407   0.969   0.33    0.748   0.214\n",
      " 0.922   0.965   0.901   0.948   0.958   0.26    0.29    0.95    0.967\n",
      " 0.906   0.996   0.315   0.371   0.828   0.62    0.364   0.381   0.384\n",
      " 0.942   0.374   0.358   0.0622  0.984   0.348   0.356   0.267   0.4\n",
      " 0.395   0.669   0.354   0.869   0.905   0.369   0.383   0.418   0.254\n",
      " 0.362   0.943   0.261   0.127   0.986   0.3     0.949   0.758   0.352\n",
      " 0.195   0.975   0.432   0.91    0.938   0.398   0.322   0.453   0.827\n",
      " 0.898   0.368   0.237   0.152   0.945   0.44    0.107   0.501   0.174\n",
      " 0.292   0.978   0.973   0.587   0.336   0.616   0.957   0.442   0.495\n",
      " 0.983   0.25    0.515   0.993   0.302   0.962   0.217   0.829   0.985\n",
      " 0.259   0.284   0.963   0.851   0.93    0.179   0.326   0.226   0.299\n",
      " 0.988   0.511   0.203   0.183   0.974   0.968   0.101   0.426   0.63\n",
      " 0.297   0.99    0.946   0.365   0.132   0.971   0.881   0.97    0.987\n",
      " 0.542   0.316   0.169   0.265   0.136   0.49    0.273   0.247   0.343\n",
      " 0.392   0.553   0.281   0.318   0.00269 0.258   0.979   0.268   0.349\n",
      " 0.436   0.0744  0.534   0.459   0.17    0.161   0.317   0.334   0.312\n",
      " 0.38    0.088   0.153   0.186   0.332   0.995   0.0223  0.36    0.331\n",
      " 0.241   0.181   0.149   0.198   0.22    0.201   0.997   0.269   0.409\n",
      " 0.126   0.298   0.319   0.205   0.353   0.345   0.338   0.16    0.982\n",
      " 0.277   0.134   0.211   0.124   0.309   0.227   0.206   0.294   0.266\n",
      " 0.275   0.133   0.272   0.0775  0.243   0.286   0.121   0.327   0.157\n",
      " 0.15    0.0612  0.228   0.00213 0.00158 0.0601  0.208   0.0476  0.35\n",
      " 0.159   0.278   0.189   0.00546 0.224   0.0325  0.185   0.108   0.138  ]\n",
      "key\n",
      "[ 6 10  1  8  7  5  2 11  4  9  0  3]\n",
      "mode\n",
      "[0. 1.]\n",
      "speechiness\n",
      "[0.2    0.04   0.292  ... 0.0819 0.0811 0.0753]\n",
      "acousticness\n",
      "[0.349   0.331   0.0852  ... 0.00484 0.531   0.838  ]\n",
      "instrumentalness\n",
      "[0.00e+00 6.00e-05 9.11e-06 ... 5.40e-06 8.65e-02 9.99e-06]\n",
      "liveness\n",
      "[0.34   0.135  0.534  ... 0.909  0.816  0.0507]\n",
      "valence\n",
      "[0.218  0.341  0.389  ... 0.0867 0.0833 0.0632]\n",
      "tempo\n",
      "[ 83.903 145.038 112.511 ... 105.632 107.598 129.693]\n",
      "duration_ms\n",
      "[239836 231267 145543 ... 383333 368467 302973]\n",
      "loudness\n",
      "[ -7.23   -5.804  -6.903 ... -13.669 -13.04  -14.674]\n"
     ]
    }
   ],
   "source": [
    "#now we check for unique values so that we will get idea that we are \n",
    "#having any special character or value inplace of Null values\n",
    "for col in df1:\n",
    "    print(col)\n",
    "    print(df1[col].unique())"
   ]
  },
  {
   "cell_type": "code",
   "execution_count": 16,
   "metadata": {},
   "outputs": [
    {
     "data": {
      "text/html": [
       "<div>\n",
       "<style scoped>\n",
       "    .dataframe tbody tr th:only-of-type {\n",
       "        vertical-align: middle;\n",
       "    }\n",
       "\n",
       "    .dataframe tbody tr th {\n",
       "        vertical-align: top;\n",
       "    }\n",
       "\n",
       "    .dataframe thead th {\n",
       "        text-align: right;\n",
       "    }\n",
       "</style>\n",
       "<table border=\"1\" class=\"dataframe\">\n",
       "  <thead>\n",
       "    <tr style=\"text-align: right;\">\n",
       "      <th></th>\n",
       "      <th>0</th>\n",
       "      <th>1</th>\n",
       "      <th>2</th>\n",
       "      <th>3</th>\n",
       "      <th>4</th>\n",
       "      <th>5</th>\n",
       "      <th>danceability</th>\n",
       "      <th>energy</th>\n",
       "      <th>key</th>\n",
       "      <th>loudness</th>\n",
       "      <th>mode</th>\n",
       "      <th>speechiness</th>\n",
       "      <th>acousticness</th>\n",
       "      <th>instrumentalness</th>\n",
       "      <th>liveness</th>\n",
       "      <th>valence</th>\n",
       "      <th>tempo</th>\n",
       "      <th>duration_ms</th>\n",
       "    </tr>\n",
       "  </thead>\n",
       "  <tbody>\n",
       "    <tr>\n",
       "      <th>0</th>\n",
       "      <td>Sonora Santanera</td>\n",
       "      <td>Las Numero 1 De La Sonora Santanera</td>\n",
       "      <td>Amor De Cabaret</td>\n",
       "      <td>2016</td>\n",
       "      <td>TRAAADZ128F9348C2E</td>\n",
       "      <td>5JeyXbf7CrVQ8DqwFikN0P</td>\n",
       "      <td>0.699</td>\n",
       "      <td>0.519</td>\n",
       "      <td>8</td>\n",
       "      <td>-6.422</td>\n",
       "      <td>1</td>\n",
       "      <td>0.0290</td>\n",
       "      <td>0.689000</td>\n",
       "      <td>0.000471</td>\n",
       "      <td>0.9350</td>\n",
       "      <td>0.676</td>\n",
       "      <td>102.463</td>\n",
       "      <td>183027</td>\n",
       "    </tr>\n",
       "    <tr>\n",
       "      <th>1</th>\n",
       "      <td>JennyAnyKind</td>\n",
       "      <td>I Need You</td>\n",
       "      <td>Young Boy Blues</td>\n",
       "      <td>2000</td>\n",
       "      <td>TRAAAVO128F93133D4</td>\n",
       "      <td>5uN6oY2NGLC6GKoywHKkZA</td>\n",
       "      <td>0.458</td>\n",
       "      <td>0.570</td>\n",
       "      <td>5</td>\n",
       "      <td>-9.159</td>\n",
       "      <td>0</td>\n",
       "      <td>0.0495</td>\n",
       "      <td>0.000055</td>\n",
       "      <td>0.000768</td>\n",
       "      <td>0.0988</td>\n",
       "      <td>0.203</td>\n",
       "      <td>146.609</td>\n",
       "      <td>218907</td>\n",
       "    </tr>\n",
       "    <tr>\n",
       "      <th>2</th>\n",
       "      <td>Casual</td>\n",
       "      <td>Fear Itself</td>\n",
       "      <td>I Didn't Mean To</td>\n",
       "      <td>1994</td>\n",
       "      <td>TRAAAAW128F429D538</td>\n",
       "      <td>01TR6aAKrA2cI3Z0gnCOsu</td>\n",
       "      <td>0.751</td>\n",
       "      <td>0.549</td>\n",
       "      <td>6</td>\n",
       "      <td>-10.508</td>\n",
       "      <td>0</td>\n",
       "      <td>0.4290</td>\n",
       "      <td>0.063000</td>\n",
       "      <td>0.000025</td>\n",
       "      <td>0.1060</td>\n",
       "      <td>0.553</td>\n",
       "      <td>92.224</td>\n",
       "      <td>218933</td>\n",
       "    </tr>\n",
       "    <tr>\n",
       "      <th>3</th>\n",
       "      <td>Jeff And Sheri Easter</td>\n",
       "      <td>Ordinary Day</td>\n",
       "      <td>The Moon And I (Ordinary Day Album Version)</td>\n",
       "      <td>2006</td>\n",
       "      <td>TRAAAMO128F1481E7F</td>\n",
       "      <td>7ERvcsBBYzSHqQQqlI9xAN</td>\n",
       "      <td>0.456</td>\n",
       "      <td>0.472</td>\n",
       "      <td>5</td>\n",
       "      <td>-8.328</td>\n",
       "      <td>1</td>\n",
       "      <td>0.0325</td>\n",
       "      <td>0.706000</td>\n",
       "      <td>0.000005</td>\n",
       "      <td>0.0833</td>\n",
       "      <td>0.286</td>\n",
       "      <td>147.565</td>\n",
       "      <td>267640</td>\n",
       "    </tr>\n",
       "    <tr>\n",
       "      <th>4</th>\n",
       "      <td>Tweeterfriendly Music</td>\n",
       "      <td>Gin &amp; Phonic</td>\n",
       "      <td>Drop of Rain</td>\n",
       "      <td>2003</td>\n",
       "      <td>TRAAAPK128E0786D96</td>\n",
       "      <td>6dfppQDZQ4x3fCs6N89kV3</td>\n",
       "      <td>0.498</td>\n",
       "      <td>0.300</td>\n",
       "      <td>7</td>\n",
       "      <td>-10.716</td>\n",
       "      <td>1</td>\n",
       "      <td>0.0352</td>\n",
       "      <td>0.553000</td>\n",
       "      <td>0.000116</td>\n",
       "      <td>0.0963</td>\n",
       "      <td>0.185</td>\n",
       "      <td>100.315</td>\n",
       "      <td>189560</td>\n",
       "    </tr>\n",
       "  </tbody>\n",
       "</table>\n",
       "</div>"
      ],
      "text/plain": [
       "                       0                                    1  \\\n",
       "0       Sonora Santanera  Las Numero 1 De La Sonora Santanera   \n",
       "1           JennyAnyKind                           I Need You   \n",
       "2                 Casual                          Fear Itself   \n",
       "3  Jeff And Sheri Easter                         Ordinary Day   \n",
       "4  Tweeterfriendly Music                         Gin & Phonic   \n",
       "\n",
       "                                             2     3                   4  \\\n",
       "0                              Amor De Cabaret  2016  TRAAADZ128F9348C2E   \n",
       "1                              Young Boy Blues  2000  TRAAAVO128F93133D4   \n",
       "2                             I Didn't Mean To  1994  TRAAAAW128F429D538   \n",
       "3  The Moon And I (Ordinary Day Album Version)  2006  TRAAAMO128F1481E7F   \n",
       "4                                 Drop of Rain  2003  TRAAAPK128E0786D96   \n",
       "\n",
       "                        5  danceability  energy  key  loudness  mode  \\\n",
       "0  5JeyXbf7CrVQ8DqwFikN0P         0.699   0.519    8    -6.422     1   \n",
       "1  5uN6oY2NGLC6GKoywHKkZA         0.458   0.570    5    -9.159     0   \n",
       "2  01TR6aAKrA2cI3Z0gnCOsu         0.751   0.549    6   -10.508     0   \n",
       "3  7ERvcsBBYzSHqQQqlI9xAN         0.456   0.472    5    -8.328     1   \n",
       "4  6dfppQDZQ4x3fCs6N89kV3         0.498   0.300    7   -10.716     1   \n",
       "\n",
       "   speechiness  acousticness  instrumentalness  liveness  valence    tempo  \\\n",
       "0       0.0290      0.689000          0.000471    0.9350    0.676  102.463   \n",
       "1       0.0495      0.000055          0.000768    0.0988    0.203  146.609   \n",
       "2       0.4290      0.063000          0.000025    0.1060    0.553   92.224   \n",
       "3       0.0325      0.706000          0.000005    0.0833    0.286  147.565   \n",
       "4       0.0352      0.553000          0.000116    0.0963    0.185  100.315   \n",
       "\n",
       "   duration_ms  \n",
       "0       183027  \n",
       "1       218907  \n",
       "2       218933  \n",
       "3       267640  \n",
       "4       189560  "
      ]
     },
     "execution_count": 16,
     "metadata": {},
     "output_type": "execute_result"
    }
   ],
   "source": [
    "#load MSD_Features data set\n",
    "df2=pd.read_csv('MSD_Features.csv')\n",
    "df2.head()"
   ]
  },
  {
   "cell_type": "code",
   "execution_count": 17,
   "metadata": {},
   "outputs": [],
   "source": [
    "#rename columns\n",
    "df2=df2.rename({'0':'Artist','1':'Album','2':'Track','3':'Year'},axis=1)"
   ]
  },
  {
   "cell_type": "code",
   "execution_count": 18,
   "metadata": {},
   "outputs": [],
   "source": [
    "#remove ID columns\n",
    "df2.drop(['4','5'],axis=1,inplace=True)"
   ]
  },
  {
   "cell_type": "code",
   "execution_count": 19,
   "metadata": {},
   "outputs": [
    {
     "data": {
      "text/html": [
       "<div>\n",
       "<style scoped>\n",
       "    .dataframe tbody tr th:only-of-type {\n",
       "        vertical-align: middle;\n",
       "    }\n",
       "\n",
       "    .dataframe tbody tr th {\n",
       "        vertical-align: top;\n",
       "    }\n",
       "\n",
       "    .dataframe thead th {\n",
       "        text-align: right;\n",
       "    }\n",
       "</style>\n",
       "<table border=\"1\" class=\"dataframe\">\n",
       "  <thead>\n",
       "    <tr style=\"text-align: right;\">\n",
       "      <th></th>\n",
       "      <th>Artist</th>\n",
       "      <th>Album</th>\n",
       "      <th>Track</th>\n",
       "      <th>Year</th>\n",
       "      <th>danceability</th>\n",
       "      <th>energy</th>\n",
       "      <th>key</th>\n",
       "      <th>loudness</th>\n",
       "      <th>mode</th>\n",
       "      <th>speechiness</th>\n",
       "      <th>acousticness</th>\n",
       "      <th>instrumentalness</th>\n",
       "      <th>liveness</th>\n",
       "      <th>valence</th>\n",
       "      <th>tempo</th>\n",
       "      <th>duration_ms</th>\n",
       "    </tr>\n",
       "  </thead>\n",
       "  <tbody>\n",
       "    <tr>\n",
       "      <th>0</th>\n",
       "      <td>Sonora Santanera</td>\n",
       "      <td>Las Numero 1 De La Sonora Santanera</td>\n",
       "      <td>Amor De Cabaret</td>\n",
       "      <td>2016</td>\n",
       "      <td>0.699</td>\n",
       "      <td>0.519</td>\n",
       "      <td>8</td>\n",
       "      <td>-6.422</td>\n",
       "      <td>1</td>\n",
       "      <td>0.0290</td>\n",
       "      <td>0.689000</td>\n",
       "      <td>0.000471</td>\n",
       "      <td>0.9350</td>\n",
       "      <td>0.676</td>\n",
       "      <td>102.463</td>\n",
       "      <td>183027</td>\n",
       "    </tr>\n",
       "    <tr>\n",
       "      <th>1</th>\n",
       "      <td>JennyAnyKind</td>\n",
       "      <td>I Need You</td>\n",
       "      <td>Young Boy Blues</td>\n",
       "      <td>2000</td>\n",
       "      <td>0.458</td>\n",
       "      <td>0.570</td>\n",
       "      <td>5</td>\n",
       "      <td>-9.159</td>\n",
       "      <td>0</td>\n",
       "      <td>0.0495</td>\n",
       "      <td>0.000055</td>\n",
       "      <td>0.000768</td>\n",
       "      <td>0.0988</td>\n",
       "      <td>0.203</td>\n",
       "      <td>146.609</td>\n",
       "      <td>218907</td>\n",
       "    </tr>\n",
       "    <tr>\n",
       "      <th>2</th>\n",
       "      <td>Casual</td>\n",
       "      <td>Fear Itself</td>\n",
       "      <td>I Didn't Mean To</td>\n",
       "      <td>1994</td>\n",
       "      <td>0.751</td>\n",
       "      <td>0.549</td>\n",
       "      <td>6</td>\n",
       "      <td>-10.508</td>\n",
       "      <td>0</td>\n",
       "      <td>0.4290</td>\n",
       "      <td>0.063000</td>\n",
       "      <td>0.000025</td>\n",
       "      <td>0.1060</td>\n",
       "      <td>0.553</td>\n",
       "      <td>92.224</td>\n",
       "      <td>218933</td>\n",
       "    </tr>\n",
       "    <tr>\n",
       "      <th>3</th>\n",
       "      <td>Jeff And Sheri Easter</td>\n",
       "      <td>Ordinary Day</td>\n",
       "      <td>The Moon And I (Ordinary Day Album Version)</td>\n",
       "      <td>2006</td>\n",
       "      <td>0.456</td>\n",
       "      <td>0.472</td>\n",
       "      <td>5</td>\n",
       "      <td>-8.328</td>\n",
       "      <td>1</td>\n",
       "      <td>0.0325</td>\n",
       "      <td>0.706000</td>\n",
       "      <td>0.000005</td>\n",
       "      <td>0.0833</td>\n",
       "      <td>0.286</td>\n",
       "      <td>147.565</td>\n",
       "      <td>267640</td>\n",
       "    </tr>\n",
       "    <tr>\n",
       "      <th>4</th>\n",
       "      <td>Tweeterfriendly Music</td>\n",
       "      <td>Gin &amp; Phonic</td>\n",
       "      <td>Drop of Rain</td>\n",
       "      <td>2003</td>\n",
       "      <td>0.498</td>\n",
       "      <td>0.300</td>\n",
       "      <td>7</td>\n",
       "      <td>-10.716</td>\n",
       "      <td>1</td>\n",
       "      <td>0.0352</td>\n",
       "      <td>0.553000</td>\n",
       "      <td>0.000116</td>\n",
       "      <td>0.0963</td>\n",
       "      <td>0.185</td>\n",
       "      <td>100.315</td>\n",
       "      <td>189560</td>\n",
       "    </tr>\n",
       "  </tbody>\n",
       "</table>\n",
       "</div>"
      ],
      "text/plain": [
       "                  Artist                                Album  \\\n",
       "0       Sonora Santanera  Las Numero 1 De La Sonora Santanera   \n",
       "1           JennyAnyKind                           I Need You   \n",
       "2                 Casual                          Fear Itself   \n",
       "3  Jeff And Sheri Easter                         Ordinary Day   \n",
       "4  Tweeterfriendly Music                         Gin & Phonic   \n",
       "\n",
       "                                         Track  Year  danceability  energy  \\\n",
       "0                              Amor De Cabaret  2016         0.699   0.519   \n",
       "1                              Young Boy Blues  2000         0.458   0.570   \n",
       "2                             I Didn't Mean To  1994         0.751   0.549   \n",
       "3  The Moon And I (Ordinary Day Album Version)  2006         0.456   0.472   \n",
       "4                                 Drop of Rain  2003         0.498   0.300   \n",
       "\n",
       "   key  loudness  mode  speechiness  acousticness  instrumentalness  liveness  \\\n",
       "0    8    -6.422     1       0.0290      0.689000          0.000471    0.9350   \n",
       "1    5    -9.159     0       0.0495      0.000055          0.000768    0.0988   \n",
       "2    6   -10.508     0       0.4290      0.063000          0.000025    0.1060   \n",
       "3    5    -8.328     1       0.0325      0.706000          0.000005    0.0833   \n",
       "4    7   -10.716     1       0.0352      0.553000          0.000116    0.0963   \n",
       "\n",
       "   valence    tempo  duration_ms  \n",
       "0    0.676  102.463       183027  \n",
       "1    0.203  146.609       218907  \n",
       "2    0.553   92.224       218933  \n",
       "3    0.286  147.565       267640  \n",
       "4    0.185  100.315       189560  "
      ]
     },
     "execution_count": 19,
     "metadata": {},
     "output_type": "execute_result"
    }
   ],
   "source": [
    "df2.head()"
   ]
  },
  {
   "cell_type": "code",
   "execution_count": 20,
   "metadata": {},
   "outputs": [
    {
     "data": {
      "text/plain": [
       "(5603, 16)"
      ]
     },
     "execution_count": 20,
     "metadata": {},
     "output_type": "execute_result"
    }
   ],
   "source": [
    "df2.shape"
   ]
  },
  {
   "cell_type": "code",
   "execution_count": 21,
   "metadata": {},
   "outputs": [
    {
     "name": "stdout",
     "output_type": "stream",
     "text": [
      "<class 'pandas.core.frame.DataFrame'>\n",
      "RangeIndex: 5603 entries, 0 to 5602\n",
      "Data columns (total 16 columns):\n",
      " #   Column            Non-Null Count  Dtype  \n",
      "---  ------            --------------  -----  \n",
      " 0   Artist            5603 non-null   object \n",
      " 1   Album             5603 non-null   object \n",
      " 2   Track             5603 non-null   object \n",
      " 3   Year              5603 non-null   int64  \n",
      " 4   danceability      5603 non-null   float64\n",
      " 5   energy            5603 non-null   float64\n",
      " 6   key               5603 non-null   int64  \n",
      " 7   loudness          5603 non-null   float64\n",
      " 8   mode              5603 non-null   int64  \n",
      " 9   speechiness       5603 non-null   float64\n",
      " 10  acousticness      5603 non-null   float64\n",
      " 11  instrumentalness  5603 non-null   float64\n",
      " 12  liveness          5603 non-null   float64\n",
      " 13  valence           5603 non-null   float64\n",
      " 14  tempo             5603 non-null   float64\n",
      " 15  duration_ms       5603 non-null   int64  \n",
      "dtypes: float64(9), int64(4), object(3)\n",
      "memory usage: 700.5+ KB\n"
     ]
    }
   ],
   "source": [
    "df2.info()"
   ]
  },
  {
   "cell_type": "code",
   "execution_count": 22,
   "metadata": {},
   "outputs": [
    {
     "data": {
      "text/plain": [
       "Artist              0\n",
       "Album               0\n",
       "Track               0\n",
       "Year                0\n",
       "danceability        0\n",
       "energy              0\n",
       "key                 0\n",
       "loudness            0\n",
       "mode                0\n",
       "speechiness         0\n",
       "acousticness        0\n",
       "instrumentalness    0\n",
       "liveness            0\n",
       "valence             0\n",
       "tempo               0\n",
       "duration_ms         0\n",
       "dtype: int64"
      ]
     },
     "execution_count": 22,
     "metadata": {},
     "output_type": "execute_result"
    }
   ],
   "source": [
    "#check for null values\n",
    "df2.isnull().sum()"
   ]
  },
  {
   "cell_type": "code",
   "execution_count": 23,
   "metadata": {},
   "outputs": [
    {
     "name": "stdout",
     "output_type": "stream",
     "text": [
      "Artist\n",
      "['Sonora Santanera' 'JennyAnyKind' 'Casual' ... 'Owsley'\n",
      " 'Little Willie John' 'Mouth Of The Architect']\n",
      "Album\n",
      "['Las Numero 1 De La Sonora Santanera' 'I Need You' 'Fear Itself' ...\n",
      " 'Return Of The Guardians' 'Sin / Pecado' 'Once Upon A Shattered Life']\n",
      "Track\n",
      "['Amor De Cabaret' 'Young Boy Blues' \"I Didn't Mean To\" ...\n",
      " 'Shattered Life' 'One the road (to Damnation)'\n",
      " 'The Wonderful World Of The Young']\n",
      "Year\n",
      "[2016 2000 1994 2006 2003 2019 2009 2002 2018 1998 2008 1997 2004 2007\n",
      " 2011 2001 2010 2014 1999 1996 2012 2005 1993 1995 1992 1990 2015 2013\n",
      " 2017 1991]\n",
      "danceability\n",
      "[0.699  0.458  0.751  0.456  0.498  0.683  0.591  0.583  0.581  0.756\n",
      " 0.569  0.537  0.499  0.197  0.839  0.532  0.579  0.21   0.794  0.66\n",
      " 0.477  0.258  0.254  0.606  0.531  0.573  0.485  0.596  0.633  0.5\n",
      " 0.282  0.704  0.694  0.737  0.63   0.692  0.836  0.767  0.31   0.149\n",
      " 0.638  0.746  0.685  0.841  0.56   0.507  0.471  0.557  0.728  0.208\n",
      " 0.549  0.582  0.672  0.172  0.763  0.616  0.323  0.85   0.919  0.587\n",
      " 0.801  0.404  0.553  0.55   0.54   0.688  0.513  0.479  0.595  0.442\n",
      " 0.562  0.528  0.291  0.725  0.708  0.576  0.426  0.854  0.652  0.693\n",
      " 0.687  0.724  0.308  0.473  0.489  0.651  0.825  0.275  0.25   0.481\n",
      " 0.464  0.333  0.214  0.788  0.476  0.318  0.37   0.49   0.541  0.457\n",
      " 0.53   0.259  0.67   0.829  0.574  0.732  0.418  0.244  0.604  0.484\n",
      " 0.385  0.59   0.6    0.328  0.666  0.556  0.177  0.394  0.441  0.375\n",
      " 0.82   0.863  0.833  0.701  0.468  0.659  0.194  0.661  0.391  0.631\n",
      " 0.815  0.619  0.668  0.388  0.32   0.589  0.761  0.24   0.691  0.447\n",
      " 0.523  0.548  0.271  0.554  0.525  0.322  0.593  0.215  0.894  0.465\n",
      " 0.347  0.283  0.782  0.512  0.436  0.17   0.577  0.372  0.807  0.273\n",
      " 0.52   0.827  0.707  0.635  0.603  0.406  0.887  0.622  0.453  0.601\n",
      " 0.733  0.496  0.653  0.789  0.506  0.439  0.492  0.777  0.64   0.757\n",
      " 0.776  0.367  0.758  0.566  0.343  0.669  0.469  0.29   0.747  0.534\n",
      " 0.872  0.409  0.527  0.773  0.     0.369  0.74   0.535  0.57   0.785\n",
      " 0.754  0.655  0.643  0.44   0.883  0.524  0.71   0.502  0.416  0.615\n",
      " 0.543  0.588  0.452  0.348  0.354  0.821  0.735  0.75   0.72   0.612\n",
      " 0.514  0.772  0.109  0.826  0.634  0.256  0.427  0.816  0.0773 0.518\n",
      " 0.727  0.324  0.858  0.742  0.752  0.0693 0.186  0.545  0.586  0.677\n",
      " 0.637  0.759  0.774  0.665  0.232  0.726  0.434  0.626  0.824  0.191\n",
      " 0.641  0.675  0.939  0.311  0.321  0.112  0.472  0.551  0.768  0.331\n",
      " 0.766  0.435  0.679  0.877  0.538  0.293  0.681  0.338  0.235  0.828\n",
      " 0.511  0.196  0.748  0.431  0.555  0.77   0.572  0.544  0.138  0.575\n",
      " 0.715  0.627  0.133  0.802  0.719  0.529  0.278  0.384  0.628  0.405\n",
      " 0.407  0.563  0.233  0.205  0.148  0.703  0.302  0.645  0.377  0.778\n",
      " 0.852  0.602  0.314  0.229  0.618  0.216  0.475  0.243  0.658  0.817\n",
      " 0.565  0.539  0.415  0.765  0.516  0.157  0.58   0.445  0.614  0.623\n",
      " 0.775  0.413  0.781  0.786  0.474  0.734  0.698  0.617  0.171  0.295\n",
      " 0.585  0.466  0.213  0.819  0.371  0.503  0.493  0.536  0.695  0.648\n",
      " 0.346  0.809  0.804  0.504  0.8    0.546  0.0852 0.705  0.542  0.714\n",
      " 0.676  0.392  0.749  0.419  0.241  0.389  0.36   0.636  0.662  0.355\n",
      " 0.578  0.613  0.663  0.656  0.43   0.399  0.598  0.722  0.599  0.448\n",
      " 0.741  0.632  0.47   0.144  0.353  0.745  0.673  0.832  0.337  0.717\n",
      " 0.743  0.803  0.592  0.349  0.305  0.784  0.644  0.674  0.48   0.864\n",
      " 0.422  0.86   0.547  0.73   0.267  0.892  0.647  0.316  0.624  0.649\n",
      " 0.509  0.246  0.396  0.779  0.847  0.298  0.609  0.806  0.363  0.594\n",
      " 0.279  0.552  0.491  0.682  0.68   0.797  0.432  0.387  0.822  0.251\n",
      " 0.567  0.483  0.856  0.584  0.437  0.38   0.875  0.401  0.798  0.332\n",
      " 0.755  0.795  0.89   0.87   0.228  0.374  0.136  0.368  0.796  0.27\n",
      " 0.948  0.262  0.356  0.395  0.378  0.351  0.46   0.791  0.671  0.433\n",
      " 0.771  0.41   0.844  0.313  0.268  0.494  0.462  0.304  0.398  0.731\n",
      " 0.605  0.521  0.564  0.697  0.608  0.931  0.889  0.175  0.842  0.848\n",
      " 0.723  0.871  0.837  0.629  0.69   0.568  0.519  0.276  0.334  0.835\n",
      " 0.899  0.559  0.966  0.169  0.379  0.261  0.897  0.951  0.686  0.515\n",
      " 0.359  0.204  0.161  0.729  0.429  0.769  0.646  0.845  0.12   0.696\n",
      " 0.199  0.51   0.787  0.266  0.792  0.315  0.799  0.736  0.386  0.879\n",
      " 0.857  0.463  0.684  0.444  0.488  0.0685 0.79   0.423  0.711  0.443\n",
      " 0.813  0.412  0.0908 0.397  0.35   0.884  0.288  0.478  0.417  0.838\n",
      " 0.231  0.868  0.39   0.713  0.482  0.449  0.219  0.495  0.0788 0.362\n",
      " 0.0555 0.3    0.165  0.234  0.455  0.408  0.451  0.257  0.201  0.607\n",
      " 0.558  0.365  0.625  0.223  0.654  0.265  0.716  0.915  0.814  0.312\n",
      " 0.61   0.292  0.812  0.764  0.42   0.621  0.425  0.317  0.252  0.357\n",
      " 0.508  0.486  0.721  0.9    0.277  0.122  0.667  0.859  0.561  0.459\n",
      " 0.0965 0.285  0.461  0.702  0.162  0.188  0.888  0.467  0.846  0.689\n",
      " 0.808  0.793  0.174  0.446  0.119  0.805  0.151  0.517  0.744  0.145\n",
      " 0.34   0.739  0.657  0.526  0.533  0.811  0.212  0.611  0.414  0.522\n",
      " 0.327  0.211  0.227  0.454  0.709  0.342  0.296  0.269  0.876  0.341\n",
      " 0.639  0.253  0.286  0.893  0.83   0.178  0.147  0.92   0.712  0.762\n",
      " 0.376  0.428  0.381  0.505  0.309  0.678  0.928  0.45   0.907  0.274\n",
      " 0.26   0.217  0.209  0.597  0.0846 0.358  0.255  0.272  0.361  0.878\n",
      " 0.325  0.187  0.115  0.366  0.487  0.168  0.501  0.264  0.344  0.438\n",
      " 0.319  0.339  0.2    0.1    0.141  0.294  0.78   0.7    0.571  0.497\n",
      " 0.882  0.81   0.916  0.33   0.62   0.303  0.0978 0.421  0.181  0.345\n",
      " 0.753  0.0872 0.411  0.818  0.189  0.76   0.88   0.143  0.13   0.193\n",
      " 0.249  0.853  0.118  0.239  0.16   0.925  0.706  0.738  0.142  0.23\n",
      " 0.664  0.959  0.373  0.912  0.0886 0.225  0.129  0.949  0.176  0.192\n",
      " 0.106  0.383  0.163  0.393  0.402  0.28   0.642  0.195  0.329  0.326\n",
      " 0.224  0.896  0.236  0.831  0.154  0.941  0.167  0.0645 0.895  0.403\n",
      " 0.245  0.237  0.898  0.866  0.352  0.307  0.924  0.984  0.299  0.242\n",
      " 0.153  0.718  0.221  0.289  0.284  0.921  0.382  0.65   0.287  0.137\n",
      " 0.0647 0.18   0.335  0.0672 0.424  0.938  0.247  0.281  0.881  0.14\n",
      " 0.865  0.4    0.364  0.91   0.927  0.0973 0.886  0.862  0.156  0.0636\n",
      " 0.911  0.0711 0.913  0.0921 0.179  0.869  0.102  0.955  0.202  0.0914\n",
      " 0.904  0.917  0.873  0.0935 0.139  0.306  0.183  0.0718 0.297  0.185\n",
      " 0.885  0.953  0.823  0.123  0.783  0.198  0.0907 0.336  0.135  0.0982\n",
      " 0.203  0.218  0.301  0.867  0.22   0.226  0.158  0.0706 0.081  0.843\n",
      " 0.861  0.121  0.116  0.84   0.222  0.942  0.0658 0.207  0.851  0.855\n",
      " 0.206  0.166  0.914  0.908  0.152  0.929  0.957  0.11   0.105  0.906\n",
      " 0.164  0.0829 0.248 ]\n",
      "energy\n",
      "[0.519  0.57   0.549  ... 0.0275 0.0749 0.0243]\n",
      "key\n",
      "[ 8  5  6  7  1  0 11  2  4  3 10  9]\n",
      "loudness\n",
      "[ -6.422  -9.159 -10.508 ...  -8.798  -3.501 -12.959]\n",
      "mode\n",
      "[1 0]\n",
      "speechiness\n",
      "[0.029  0.0495 0.429  ... 0.0726 0.498  0.0553]\n",
      "acousticness\n",
      "[6.89e-01 5.54e-05 6.30e-02 ... 8.38e-03 7.56e-03 1.87e-05]\n",
      "instrumentalness\n",
      "[4.71e-04 7.68e-04 2.47e-05 ... 6.72e-03 9.75e-03 3.19e-05]\n",
      "liveness\n",
      "[0.935  0.0988 0.106  ... 0.554  0.685  0.711 ]\n",
      "valence\n",
      "[0.676  0.203  0.553  ... 0.0819 0.0813 0.0979]\n",
      "tempo\n",
      "[102.463 146.609  92.224 ... 150.326 116.847 179.31 ]\n",
      "duration_ms\n",
      "[183027 218907 218933 ... 209693 179413 169333]\n"
     ]
    }
   ],
   "source": [
    "#no null values are found \n",
    "#we check for unique values\n",
    "for col in df2:\n",
    "    print(col)\n",
    "    print(df2[col].unique())"
   ]
  },
  {
   "cell_type": "code",
   "execution_count": 24,
   "metadata": {},
   "outputs": [],
   "source": [
    "#we dont have any other values inplace of null values"
   ]
  },
  {
   "cell_type": "code",
   "execution_count": 25,
   "metadata": {},
   "outputs": [
    {
     "data": {
      "text/html": [
       "<div>\n",
       "<style scoped>\n",
       "    .dataframe tbody tr th:only-of-type {\n",
       "        vertical-align: middle;\n",
       "    }\n",
       "\n",
       "    .dataframe tbody tr th {\n",
       "        vertical-align: top;\n",
       "    }\n",
       "\n",
       "    .dataframe thead th {\n",
       "        text-align: right;\n",
       "    }\n",
       "</style>\n",
       "<table border=\"1\" class=\"dataframe\">\n",
       "  <thead>\n",
       "    <tr style=\"text-align: right;\">\n",
       "      <th></th>\n",
       "      <th>Track</th>\n",
       "      <th>Artist</th>\n",
       "      <th>danceability</th>\n",
       "      <th>energy</th>\n",
       "      <th>key</th>\n",
       "      <th>mode</th>\n",
       "      <th>speechiness</th>\n",
       "      <th>acousticness</th>\n",
       "      <th>instrumentalness</th>\n",
       "      <th>liveness</th>\n",
       "      <th>valence</th>\n",
       "      <th>tempo</th>\n",
       "      <th>duration_ms</th>\n",
       "      <th>loudness</th>\n",
       "      <th>Album</th>\n",
       "      <th>Year</th>\n",
       "    </tr>\n",
       "  </thead>\n",
       "  <tbody>\n",
       "    <tr>\n",
       "      <th>0</th>\n",
       "      <td>Lucid Dreams</td>\n",
       "      <td>Juice WRLD</td>\n",
       "      <td>0.511</td>\n",
       "      <td>0.566</td>\n",
       "      <td>6</td>\n",
       "      <td>0.0</td>\n",
       "      <td>0.200</td>\n",
       "      <td>0.34900</td>\n",
       "      <td>0.0</td>\n",
       "      <td>0.340</td>\n",
       "      <td>0.218</td>\n",
       "      <td>83.903</td>\n",
       "      <td>239836</td>\n",
       "      <td>-7.230</td>\n",
       "      <td>NaN</td>\n",
       "      <td>NaN</td>\n",
       "    </tr>\n",
       "    <tr>\n",
       "      <th>1</th>\n",
       "      <td>Better Now</td>\n",
       "      <td>Post Malone</td>\n",
       "      <td>0.680</td>\n",
       "      <td>0.578</td>\n",
       "      <td>10</td>\n",
       "      <td>1.0</td>\n",
       "      <td>0.040</td>\n",
       "      <td>0.33100</td>\n",
       "      <td>0.0</td>\n",
       "      <td>0.135</td>\n",
       "      <td>0.341</td>\n",
       "      <td>145.038</td>\n",
       "      <td>231267</td>\n",
       "      <td>-5.804</td>\n",
       "      <td>NaN</td>\n",
       "      <td>NaN</td>\n",
       "    </tr>\n",
       "    <tr>\n",
       "      <th>2</th>\n",
       "      <td>Drip Too Hard</td>\n",
       "      <td>Lil Baby &amp; Gunna</td>\n",
       "      <td>0.897</td>\n",
       "      <td>0.662</td>\n",
       "      <td>1</td>\n",
       "      <td>0.0</td>\n",
       "      <td>0.292</td>\n",
       "      <td>0.08520</td>\n",
       "      <td>0.0</td>\n",
       "      <td>0.534</td>\n",
       "      <td>0.389</td>\n",
       "      <td>112.511</td>\n",
       "      <td>145543</td>\n",
       "      <td>-6.903</td>\n",
       "      <td>NaN</td>\n",
       "      <td>NaN</td>\n",
       "    </tr>\n",
       "    <tr>\n",
       "      <th>3</th>\n",
       "      <td>Sicko Mode</td>\n",
       "      <td>Travis Scott</td>\n",
       "      <td>0.834</td>\n",
       "      <td>0.730</td>\n",
       "      <td>8</td>\n",
       "      <td>1.0</td>\n",
       "      <td>0.222</td>\n",
       "      <td>0.00513</td>\n",
       "      <td>0.0</td>\n",
       "      <td>0.124</td>\n",
       "      <td>0.446</td>\n",
       "      <td>155.008</td>\n",
       "      <td>312820</td>\n",
       "      <td>-3.714</td>\n",
       "      <td>NaN</td>\n",
       "      <td>NaN</td>\n",
       "    </tr>\n",
       "    <tr>\n",
       "      <th>4</th>\n",
       "      <td>Youngblood</td>\n",
       "      <td>5 Seconds Of Summer</td>\n",
       "      <td>0.596</td>\n",
       "      <td>0.854</td>\n",
       "      <td>7</td>\n",
       "      <td>0.0</td>\n",
       "      <td>0.463</td>\n",
       "      <td>0.01690</td>\n",
       "      <td>0.0</td>\n",
       "      <td>0.124</td>\n",
       "      <td>0.152</td>\n",
       "      <td>120.274</td>\n",
       "      <td>203418</td>\n",
       "      <td>-5.114</td>\n",
       "      <td>NaN</td>\n",
       "      <td>NaN</td>\n",
       "    </tr>\n",
       "  </tbody>\n",
       "</table>\n",
       "</div>"
      ],
      "text/plain": [
       "           Track               Artist  danceability  energy  key  mode  \\\n",
       "0   Lucid Dreams           Juice WRLD         0.511   0.566    6   0.0   \n",
       "1     Better Now          Post Malone         0.680   0.578   10   1.0   \n",
       "2  Drip Too Hard     Lil Baby & Gunna         0.897   0.662    1   0.0   \n",
       "3     Sicko Mode         Travis Scott         0.834   0.730    8   1.0   \n",
       "4     Youngblood  5 Seconds Of Summer         0.596   0.854    7   0.0   \n",
       "\n",
       "   speechiness  acousticness  instrumentalness  liveness  valence    tempo  \\\n",
       "0        0.200       0.34900               0.0     0.340    0.218   83.903   \n",
       "1        0.040       0.33100               0.0     0.135    0.341  145.038   \n",
       "2        0.292       0.08520               0.0     0.534    0.389  112.511   \n",
       "3        0.222       0.00513               0.0     0.124    0.446  155.008   \n",
       "4        0.463       0.01690               0.0     0.124    0.152  120.274   \n",
       "\n",
       "   duration_ms  loudness Album  Year  \n",
       "0       239836    -7.230   NaN   NaN  \n",
       "1       231267    -5.804   NaN   NaN  \n",
       "2       145543    -6.903   NaN   NaN  \n",
       "3       312820    -3.714   NaN   NaN  \n",
       "4       203418    -5.114   NaN   NaN  "
      ]
     },
     "execution_count": 25,
     "metadata": {},
     "output_type": "execute_result"
    }
   ],
   "source": [
    "df=pd.concat([df1,df2])\n",
    "df.head()"
   ]
  },
  {
   "cell_type": "code",
   "execution_count": 26,
   "metadata": {},
   "outputs": [
    {
     "data": {
      "text/plain": [
       "(14920, 16)"
      ]
     },
     "execution_count": 26,
     "metadata": {},
     "output_type": "execute_result"
    }
   ],
   "source": [
    "df.shape"
   ]
  },
  {
   "cell_type": "code",
   "execution_count": 27,
   "metadata": {},
   "outputs": [
    {
     "data": {
      "text/plain": [
       "array([ 6, 10,  1,  8,  7,  5,  2, 11,  4,  9,  0,  3], dtype=int64)"
      ]
     },
     "execution_count": 27,
     "metadata": {},
     "output_type": "execute_result"
    }
   ],
   "source": [
    "#key attribute work as song key based on their track\n",
    "df['key'].unique()"
   ]
  },
  {
   "cell_type": "code",
   "execution_count": 28,
   "metadata": {},
   "outputs": [
    {
     "data": {
      "text/plain": [
       "7     1783\n",
       "0     1656\n",
       "1     1619\n",
       "2     1464\n",
       "9     1408\n",
       "5     1163\n",
       "11    1160\n",
       "4     1110\n",
       "6     1065\n",
       "10    1042\n",
       "8     1033\n",
       "3      417\n",
       "Name: key, dtype: int64"
      ]
     },
     "execution_count": 28,
     "metadata": {},
     "output_type": "execute_result"
    }
   ],
   "source": [
    "df['key'].value_counts()"
   ]
  },
  {
   "cell_type": "code",
   "execution_count": 29,
   "metadata": {},
   "outputs": [],
   "source": [
    "#removing duplicates\n",
    "df.sort_values('Track')\n",
    "df.drop_duplicates(subset='Track',keep=False,inplace=True)"
   ]
  },
  {
   "cell_type": "code",
   "execution_count": 30,
   "metadata": {},
   "outputs": [
    {
     "data": {
      "text/plain": [
       "(12117, 16)"
      ]
     },
     "execution_count": 30,
     "metadata": {},
     "output_type": "execute_result"
    }
   ],
   "source": [
    "df.shape"
   ]
  },
  {
   "cell_type": "code",
   "execution_count": 31,
   "metadata": {},
   "outputs": [
    {
     "data": {
      "text/plain": [
       "Track                  0\n",
       "Artist                 0\n",
       "danceability           0\n",
       "energy                 0\n",
       "key                    0\n",
       "mode                   0\n",
       "speechiness            0\n",
       "acousticness           0\n",
       "instrumentalness       0\n",
       "liveness               0\n",
       "valence                0\n",
       "tempo                  0\n",
       "duration_ms            0\n",
       "loudness               0\n",
       "Album               7157\n",
       "Year                7157\n",
       "dtype: int64"
      ]
     },
     "execution_count": 31,
     "metadata": {},
     "output_type": "execute_result"
    }
   ],
   "source": [
    "#check for null values\n",
    "df.isnull().sum()"
   ]
  },
  {
   "cell_type": "code",
   "execution_count": 32,
   "metadata": {},
   "outputs": [
    {
     "data": {
      "text/plain": [
       "Track                0.000000\n",
       "Artist               0.000000\n",
       "danceability         0.000000\n",
       "energy               0.000000\n",
       "key                  0.000000\n",
       "mode                 0.000000\n",
       "speechiness          0.000000\n",
       "acousticness         0.000000\n",
       "instrumentalness     0.000000\n",
       "liveness             0.000000\n",
       "valence              0.000000\n",
       "tempo                0.000000\n",
       "duration_ms          0.000000\n",
       "loudness             0.000000\n",
       "Album               59.065775\n",
       "Year                59.065775\n",
       "dtype: float64"
      ]
     },
     "execution_count": 32,
     "metadata": {},
     "output_type": "execute_result"
    }
   ],
   "source": [
    "df.isnull().sum()*100/df.shape[0]"
   ]
  },
  {
   "cell_type": "code",
   "execution_count": 33,
   "metadata": {},
   "outputs": [
    {
     "data": {
      "image/png": "[encoded data removed]",
      "text/plain": [
       "<Figure size 432x288 with 2 Axes>"
      ]
     },
     "metadata": {
      "needs_background": "light"
     },
     "output_type": "display_data"
    }
   ],
   "source": [
    "sns.heatmap(df.isnull())\n",
    "plt.show()"
   ]
  },
  {
   "cell_type": "code",
   "execution_count": 34,
   "metadata": {},
   "outputs": [],
   "source": [
    "#we have more than 50% of values are null in column Album and Year\n",
    "#so we remove those columns\n",
    "df.drop(['Album','Year'],axis=1,inplace=True)"
   ]
  },
  {
   "cell_type": "code",
   "execution_count": 35,
   "metadata": {},
   "outputs": [],
   "source": [
    "#change order of columns\n",
    "df=df[['Track','Artist','key','danceability','energy','speechiness','acousticness','instrumentalness','liveness',\n",
    "'valence','tempo','duration_ms','loudness','mode']]"
   ]
  },
  {
   "cell_type": "code",
   "execution_count": 36,
   "metadata": {},
   "outputs": [
    {
     "data": {
      "text/plain": [
       "(12117, 14)"
      ]
     },
     "execution_count": 36,
     "metadata": {},
     "output_type": "execute_result"
    }
   ],
   "source": [
    "df.shape"
   ]
  },
  {
   "cell_type": "code",
   "execution_count": 37,
   "metadata": {},
   "outputs": [],
   "source": [
    "df['mode']=df['mode'].astype('int64')"
   ]
  },
  {
   "cell_type": "code",
   "execution_count": 38,
   "metadata": {},
   "outputs": [
    {
     "name": "stdout",
     "output_type": "stream",
     "text": [
      "<class 'pandas.core.frame.DataFrame'>\n",
      "Int64Index: 12117 entries, 0 to 5602\n",
      "Data columns (total 14 columns):\n",
      " #   Column            Non-Null Count  Dtype  \n",
      "---  ------            --------------  -----  \n",
      " 0   Track             12117 non-null  object \n",
      " 1   Artist            12117 non-null  object \n",
      " 2   key               12117 non-null  int64  \n",
      " 3   danceability      12117 non-null  float64\n",
      " 4   energy            12117 non-null  float64\n",
      " 5   speechiness       12117 non-null  float64\n",
      " 6   acousticness      12117 non-null  float64\n",
      " 7   instrumentalness  12117 non-null  float64\n",
      " 8   liveness          12117 non-null  float64\n",
      " 9   valence           12117 non-null  float64\n",
      " 10  tempo             12117 non-null  float64\n",
      " 11  duration_ms       12117 non-null  int64  \n",
      " 12  loudness          12117 non-null  float64\n",
      " 13  mode              12117 non-null  int64  \n",
      "dtypes: float64(9), int64(3), object(2)\n",
      "memory usage: 1.4+ MB\n"
     ]
    }
   ],
   "source": [
    "df.info()"
   ]
  },
  {
   "cell_type": "code",
   "execution_count": 39,
   "metadata": {},
   "outputs": [
    {
     "data": {
      "text/html": [
       "<div>\n",
       "<style scoped>\n",
       "    .dataframe tbody tr th:only-of-type {\n",
       "        vertical-align: middle;\n",
       "    }\n",
       "\n",
       "    .dataframe tbody tr th {\n",
       "        vertical-align: top;\n",
       "    }\n",
       "\n",
       "    .dataframe thead th {\n",
       "        text-align: right;\n",
       "    }\n",
       "</style>\n",
       "<table border=\"1\" class=\"dataframe\">\n",
       "  <thead>\n",
       "    <tr style=\"text-align: right;\">\n",
       "      <th></th>\n",
       "      <th>key</th>\n",
       "      <th>danceability</th>\n",
       "      <th>energy</th>\n",
       "      <th>speechiness</th>\n",
       "      <th>acousticness</th>\n",
       "      <th>instrumentalness</th>\n",
       "      <th>liveness</th>\n",
       "      <th>valence</th>\n",
       "      <th>tempo</th>\n",
       "      <th>duration_ms</th>\n",
       "      <th>loudness</th>\n",
       "      <th>mode</th>\n",
       "    </tr>\n",
       "  </thead>\n",
       "  <tbody>\n",
       "    <tr>\n",
       "      <th>count</th>\n",
       "      <td>12117.000000</td>\n",
       "      <td>12117.000000</td>\n",
       "      <td>12117.000000</td>\n",
       "      <td>12117.000000</td>\n",
       "      <td>12117.000000</td>\n",
       "      <td>12117.000000</td>\n",
       "      <td>12117.000000</td>\n",
       "      <td>12117.000000</td>\n",
       "      <td>12117.000000</td>\n",
       "      <td>1.211700e+04</td>\n",
       "      <td>12117.000000</td>\n",
       "      <td>12117.000000</td>\n",
       "    </tr>\n",
       "    <tr>\n",
       "      <th>mean</th>\n",
       "      <td>5.286457</td>\n",
       "      <td>0.600120</td>\n",
       "      <td>0.650595</td>\n",
       "      <td>0.099112</td>\n",
       "      <td>0.238121</td>\n",
       "      <td>0.092892</td>\n",
       "      <td>0.201047</td>\n",
       "      <td>0.528202</td>\n",
       "      <td>120.461160</td>\n",
       "      <td>2.407011e+05</td>\n",
       "      <td>-7.899009</td>\n",
       "      <td>0.674754</td>\n",
       "    </tr>\n",
       "    <tr>\n",
       "      <th>std</th>\n",
       "      <td>3.555167</td>\n",
       "      <td>0.170336</td>\n",
       "      <td>0.218920</td>\n",
       "      <td>0.117385</td>\n",
       "      <td>0.286460</td>\n",
       "      <td>0.244568</td>\n",
       "      <td>0.174411</td>\n",
       "      <td>0.247129</td>\n",
       "      <td>29.856625</td>\n",
       "      <td>9.552645e+04</td>\n",
       "      <td>4.189780</td>\n",
       "      <td>0.468486</td>\n",
       "    </tr>\n",
       "    <tr>\n",
       "      <th>min</th>\n",
       "      <td>0.000000</td>\n",
       "      <td>0.000000</td>\n",
       "      <td>0.000020</td>\n",
       "      <td>0.000000</td>\n",
       "      <td>0.000001</td>\n",
       "      <td>0.000000</td>\n",
       "      <td>0.000000</td>\n",
       "      <td>0.000000</td>\n",
       "      <td>0.000000</td>\n",
       "      <td>6.477000e+03</td>\n",
       "      <td>-54.909000</td>\n",
       "      <td>0.000000</td>\n",
       "    </tr>\n",
       "    <tr>\n",
       "      <th>25%</th>\n",
       "      <td>2.000000</td>\n",
       "      <td>0.496000</td>\n",
       "      <td>0.508000</td>\n",
       "      <td>0.034900</td>\n",
       "      <td>0.017800</td>\n",
       "      <td>0.000000</td>\n",
       "      <td>0.093000</td>\n",
       "      <td>0.332000</td>\n",
       "      <td>96.969000</td>\n",
       "      <td>1.990400e+05</td>\n",
       "      <td>-9.620000</td>\n",
       "      <td>0.000000</td>\n",
       "    </tr>\n",
       "    <tr>\n",
       "      <th>50%</th>\n",
       "      <td>6.000000</td>\n",
       "      <td>0.614000</td>\n",
       "      <td>0.684000</td>\n",
       "      <td>0.049900</td>\n",
       "      <td>0.103000</td>\n",
       "      <td>0.000007</td>\n",
       "      <td>0.129000</td>\n",
       "      <td>0.535000</td>\n",
       "      <td>119.494000</td>\n",
       "      <td>2.315070e+05</td>\n",
       "      <td>-6.918000</td>\n",
       "      <td>1.000000</td>\n",
       "    </tr>\n",
       "    <tr>\n",
       "      <th>75%</th>\n",
       "      <td>8.000000</td>\n",
       "      <td>0.723000</td>\n",
       "      <td>0.826000</td>\n",
       "      <td>0.107000</td>\n",
       "      <td>0.375000</td>\n",
       "      <td>0.002520</td>\n",
       "      <td>0.264000</td>\n",
       "      <td>0.729000</td>\n",
       "      <td>139.666000</td>\n",
       "      <td>2.695730e+05</td>\n",
       "      <td>-5.115000</td>\n",
       "      <td>1.000000</td>\n",
       "    </tr>\n",
       "    <tr>\n",
       "      <th>max</th>\n",
       "      <td>11.000000</td>\n",
       "      <td>0.984000</td>\n",
       "      <td>1.000000</td>\n",
       "      <td>0.956000</td>\n",
       "      <td>0.996000</td>\n",
       "      <td>0.991000</td>\n",
       "      <td>0.997000</td>\n",
       "      <td>0.992000</td>\n",
       "      <td>245.941000</td>\n",
       "      <td>4.802553e+06</td>\n",
       "      <td>0.316000</td>\n",
       "      <td>1.000000</td>\n",
       "    </tr>\n",
       "  </tbody>\n",
       "</table>\n",
       "</div>"
      ],
      "text/plain": [
       "                key  danceability        energy   speechiness  acousticness  \\\n",
       "count  12117.000000  12117.000000  12117.000000  12117.000000  12117.000000   \n",
       "mean       5.286457      0.600120      0.650595      0.099112      0.238121   \n",
       "std        3.555167      0.170336      0.218920      0.117385      0.286460   \n",
       "min        0.000000      0.000000      0.000020      0.000000      0.000001   \n",
       "25%        2.000000      0.496000      0.508000      0.034900      0.017800   \n",
       "50%        6.000000      0.614000      0.684000      0.049900      0.103000   \n",
       "75%        8.000000      0.723000      0.826000      0.107000      0.375000   \n",
       "max       11.000000      0.984000      1.000000      0.956000      0.996000   \n",
       "\n",
       "       instrumentalness      liveness       valence         tempo  \\\n",
       "count      12117.000000  12117.000000  12117.000000  12117.000000   \n",
       "mean           0.092892      0.201047      0.528202    120.461160   \n",
       "std            0.244568      0.174411      0.247129     29.856625   \n",
       "min            0.000000      0.000000      0.000000      0.000000   \n",
       "25%            0.000000      0.093000      0.332000     96.969000   \n",
       "50%            0.000007      0.129000      0.535000    119.494000   \n",
       "75%            0.002520      0.264000      0.729000    139.666000   \n",
       "max            0.991000      0.997000      0.992000    245.941000   \n",
       "\n",
       "        duration_ms      loudness          mode  \n",
       "count  1.211700e+04  12117.000000  12117.000000  \n",
       "mean   2.407011e+05     -7.899009      0.674754  \n",
       "std    9.552645e+04      4.189780      0.468486  \n",
       "min    6.477000e+03    -54.909000      0.000000  \n",
       "25%    1.990400e+05     -9.620000      0.000000  \n",
       "50%    2.315070e+05     -6.918000      1.000000  \n",
       "75%    2.695730e+05     -5.115000      1.000000  \n",
       "max    4.802553e+06      0.316000      1.000000  "
      ]
     },
     "execution_count": 39,
     "metadata": {},
     "output_type": "execute_result"
    }
   ],
   "source": [
    "df.describe()"
   ]
  },
  {
   "cell_type": "code",
   "execution_count": 40,
   "metadata": {},
   "outputs": [
    {
     "data": {
      "text/html": [
       "<div>\n",
       "<style scoped>\n",
       "    .dataframe tbody tr th:only-of-type {\n",
       "        vertical-align: middle;\n",
       "    }\n",
       "\n",
       "    .dataframe tbody tr th {\n",
       "        vertical-align: top;\n",
       "    }\n",
       "\n",
       "    .dataframe thead th {\n",
       "        text-align: right;\n",
       "    }\n",
       "</style>\n",
       "<table border=\"1\" class=\"dataframe\">\n",
       "  <thead>\n",
       "    <tr style=\"text-align: right;\">\n",
       "      <th></th>\n",
       "      <th>Track</th>\n",
       "      <th>Artist</th>\n",
       "      <th>key</th>\n",
       "      <th>danceability</th>\n",
       "      <th>energy</th>\n",
       "      <th>speechiness</th>\n",
       "      <th>acousticness</th>\n",
       "      <th>instrumentalness</th>\n",
       "      <th>liveness</th>\n",
       "      <th>valence</th>\n",
       "      <th>tempo</th>\n",
       "      <th>duration_ms</th>\n",
       "      <th>loudness</th>\n",
       "      <th>mode</th>\n",
       "    </tr>\n",
       "  </thead>\n",
       "  <tbody>\n",
       "    <tr>\n",
       "      <th>0</th>\n",
       "      <td>Lucid Dreams</td>\n",
       "      <td>Juice WRLD</td>\n",
       "      <td>6</td>\n",
       "      <td>0.511</td>\n",
       "      <td>0.566</td>\n",
       "      <td>0.200</td>\n",
       "      <td>0.34900</td>\n",
       "      <td>0.0</td>\n",
       "      <td>0.340</td>\n",
       "      <td>0.218</td>\n",
       "      <td>83.903</td>\n",
       "      <td>239836</td>\n",
       "      <td>-7.230</td>\n",
       "      <td>0</td>\n",
       "    </tr>\n",
       "    <tr>\n",
       "      <th>1</th>\n",
       "      <td>Better Now</td>\n",
       "      <td>Post Malone</td>\n",
       "      <td>10</td>\n",
       "      <td>0.680</td>\n",
       "      <td>0.578</td>\n",
       "      <td>0.040</td>\n",
       "      <td>0.33100</td>\n",
       "      <td>0.0</td>\n",
       "      <td>0.135</td>\n",
       "      <td>0.341</td>\n",
       "      <td>145.038</td>\n",
       "      <td>231267</td>\n",
       "      <td>-5.804</td>\n",
       "      <td>1</td>\n",
       "    </tr>\n",
       "    <tr>\n",
       "      <th>2</th>\n",
       "      <td>Drip Too Hard</td>\n",
       "      <td>Lil Baby &amp; Gunna</td>\n",
       "      <td>1</td>\n",
       "      <td>0.897</td>\n",
       "      <td>0.662</td>\n",
       "      <td>0.292</td>\n",
       "      <td>0.08520</td>\n",
       "      <td>0.0</td>\n",
       "      <td>0.534</td>\n",
       "      <td>0.389</td>\n",
       "      <td>112.511</td>\n",
       "      <td>145543</td>\n",
       "      <td>-6.903</td>\n",
       "      <td>0</td>\n",
       "    </tr>\n",
       "    <tr>\n",
       "      <th>3</th>\n",
       "      <td>Sicko Mode</td>\n",
       "      <td>Travis Scott</td>\n",
       "      <td>8</td>\n",
       "      <td>0.834</td>\n",
       "      <td>0.730</td>\n",
       "      <td>0.222</td>\n",
       "      <td>0.00513</td>\n",
       "      <td>0.0</td>\n",
       "      <td>0.124</td>\n",
       "      <td>0.446</td>\n",
       "      <td>155.008</td>\n",
       "      <td>312820</td>\n",
       "      <td>-3.714</td>\n",
       "      <td>1</td>\n",
       "    </tr>\n",
       "    <tr>\n",
       "      <th>4</th>\n",
       "      <td>Youngblood</td>\n",
       "      <td>5 Seconds Of Summer</td>\n",
       "      <td>7</td>\n",
       "      <td>0.596</td>\n",
       "      <td>0.854</td>\n",
       "      <td>0.463</td>\n",
       "      <td>0.01690</td>\n",
       "      <td>0.0</td>\n",
       "      <td>0.124</td>\n",
       "      <td>0.152</td>\n",
       "      <td>120.274</td>\n",
       "      <td>203418</td>\n",
       "      <td>-5.114</td>\n",
       "      <td>0</td>\n",
       "    </tr>\n",
       "  </tbody>\n",
       "</table>\n",
       "</div>"
      ],
      "text/plain": [
       "           Track               Artist  key  danceability  energy  speechiness  \\\n",
       "0   Lucid Dreams           Juice WRLD    6         0.511   0.566        0.200   \n",
       "1     Better Now          Post Malone   10         0.680   0.578        0.040   \n",
       "2  Drip Too Hard     Lil Baby & Gunna    1         0.897   0.662        0.292   \n",
       "3     Sicko Mode         Travis Scott    8         0.834   0.730        0.222   \n",
       "4     Youngblood  5 Seconds Of Summer    7         0.596   0.854        0.463   \n",
       "\n",
       "   acousticness  instrumentalness  liveness  valence    tempo  duration_ms  \\\n",
       "0       0.34900               0.0     0.340    0.218   83.903       239836   \n",
       "1       0.33100               0.0     0.135    0.341  145.038       231267   \n",
       "2       0.08520               0.0     0.534    0.389  112.511       145543   \n",
       "3       0.00513               0.0     0.124    0.446  155.008       312820   \n",
       "4       0.01690               0.0     0.124    0.152  120.274       203418   \n",
       "\n",
       "   loudness  mode  \n",
       "0    -7.230     0  \n",
       "1    -5.804     1  \n",
       "2    -6.903     0  \n",
       "3    -3.714     1  \n",
       "4    -5.114     0  "
      ]
     },
     "execution_count": 40,
     "metadata": {},
     "output_type": "execute_result"
    }
   ],
   "source": [
    "df.head()"
   ]
  },
  {
   "cell_type": "code",
   "execution_count": 41,
   "metadata": {},
   "outputs": [
    {
     "data": {
      "image/png": "[encoded data removed]",
      "text/plain": [
       "<Figure size 720x576 with 1 Axes>"
      ]
     },
     "metadata": {
      "needs_background": "light"
     },
     "output_type": "display_data"
    }
   ],
   "source": [
    "#plot count of target variable key wise\n",
    "plt.figure(figsize=(10,8))\n",
    "sns.countplot(data=df,x='mode',hue='key')\n",
    "plt.show()"
   ]
  },
  {
   "cell_type": "code",
   "execution_count": 42,
   "metadata": {},
   "outputs": [
    {
     "data": {
      "text/html": [
       "<div>\n",
       "<style scoped>\n",
       "    .dataframe tbody tr th:only-of-type {\n",
       "        vertical-align: middle;\n",
       "    }\n",
       "\n",
       "    .dataframe tbody tr th {\n",
       "        vertical-align: top;\n",
       "    }\n",
       "\n",
       "    .dataframe thead th {\n",
       "        text-align: right;\n",
       "    }\n",
       "</style>\n",
       "<table border=\"1\" class=\"dataframe\">\n",
       "  <thead>\n",
       "    <tr style=\"text-align: right;\">\n",
       "      <th></th>\n",
       "      <th>danceability</th>\n",
       "      <th>energy</th>\n",
       "      <th>speechiness</th>\n",
       "      <th>acousticness</th>\n",
       "      <th>instrumentalness</th>\n",
       "      <th>liveness</th>\n",
       "      <th>valence</th>\n",
       "      <th>tempo</th>\n",
       "      <th>duration_ms</th>\n",
       "      <th>loudness</th>\n",
       "      <th>mode</th>\n",
       "    </tr>\n",
       "  </thead>\n",
       "  <tbody>\n",
       "    <tr>\n",
       "      <th>0</th>\n",
       "      <td>0.511</td>\n",
       "      <td>0.566</td>\n",
       "      <td>0.200</td>\n",
       "      <td>0.34900</td>\n",
       "      <td>0.0</td>\n",
       "      <td>0.340</td>\n",
       "      <td>0.218</td>\n",
       "      <td>83.903</td>\n",
       "      <td>239836</td>\n",
       "      <td>-7.230</td>\n",
       "      <td>0</td>\n",
       "    </tr>\n",
       "    <tr>\n",
       "      <th>1</th>\n",
       "      <td>0.680</td>\n",
       "      <td>0.578</td>\n",
       "      <td>0.040</td>\n",
       "      <td>0.33100</td>\n",
       "      <td>0.0</td>\n",
       "      <td>0.135</td>\n",
       "      <td>0.341</td>\n",
       "      <td>145.038</td>\n",
       "      <td>231267</td>\n",
       "      <td>-5.804</td>\n",
       "      <td>1</td>\n",
       "    </tr>\n",
       "    <tr>\n",
       "      <th>2</th>\n",
       "      <td>0.897</td>\n",
       "      <td>0.662</td>\n",
       "      <td>0.292</td>\n",
       "      <td>0.08520</td>\n",
       "      <td>0.0</td>\n",
       "      <td>0.534</td>\n",
       "      <td>0.389</td>\n",
       "      <td>112.511</td>\n",
       "      <td>145543</td>\n",
       "      <td>-6.903</td>\n",
       "      <td>0</td>\n",
       "    </tr>\n",
       "    <tr>\n",
       "      <th>3</th>\n",
       "      <td>0.834</td>\n",
       "      <td>0.730</td>\n",
       "      <td>0.222</td>\n",
       "      <td>0.00513</td>\n",
       "      <td>0.0</td>\n",
       "      <td>0.124</td>\n",
       "      <td>0.446</td>\n",
       "      <td>155.008</td>\n",
       "      <td>312820</td>\n",
       "      <td>-3.714</td>\n",
       "      <td>1</td>\n",
       "    </tr>\n",
       "    <tr>\n",
       "      <th>4</th>\n",
       "      <td>0.596</td>\n",
       "      <td>0.854</td>\n",
       "      <td>0.463</td>\n",
       "      <td>0.01690</td>\n",
       "      <td>0.0</td>\n",
       "      <td>0.124</td>\n",
       "      <td>0.152</td>\n",
       "      <td>120.274</td>\n",
       "      <td>203418</td>\n",
       "      <td>-5.114</td>\n",
       "      <td>0</td>\n",
       "    </tr>\n",
       "  </tbody>\n",
       "</table>\n",
       "</div>"
      ],
      "text/plain": [
       "   danceability  energy  speechiness  acousticness  instrumentalness  \\\n",
       "0         0.511   0.566        0.200       0.34900               0.0   \n",
       "1         0.680   0.578        0.040       0.33100               0.0   \n",
       "2         0.897   0.662        0.292       0.08520               0.0   \n",
       "3         0.834   0.730        0.222       0.00513               0.0   \n",
       "4         0.596   0.854        0.463       0.01690               0.0   \n",
       "\n",
       "   liveness  valence    tempo  duration_ms  loudness  mode  \n",
       "0     0.340    0.218   83.903       239836    -7.230     0  \n",
       "1     0.135    0.341  145.038       231267    -5.804     1  \n",
       "2     0.534    0.389  112.511       145543    -6.903     0  \n",
       "3     0.124    0.446  155.008       312820    -3.714     1  \n",
       "4     0.124    0.152  120.274       203418    -5.114     0  "
      ]
     },
     "execution_count": 42,
     "metadata": {},
     "output_type": "execute_result"
    }
   ],
   "source": [
    "df_new=df.drop(['Track','Artist','key'],axis=1)\n",
    "df_new.head()"
   ]
  },
  {
   "cell_type": "code",
   "execution_count": 43,
   "metadata": {},
   "outputs": [],
   "source": [
    "df_new.to_csv('model_dataset.csv',index=False,encoding='utf-8')"
   ]
  },
  {
   "cell_type": "code",
   "execution_count": 44,
   "metadata": {},
   "outputs": [],
   "source": [
    "X=df_new.drop('mode',axis=1)#input variables\n",
    "Y=df_new['mode']#target variable"
   ]
  },
  {
   "cell_type": "code",
   "execution_count": 45,
   "metadata": {},
   "outputs": [
    {
     "data": {
      "text/plain": [
       "Index(['danceability', 'energy', 'speechiness', 'acousticness',\n",
       "       'instrumentalness', 'liveness', 'valence', 'tempo', 'duration_ms',\n",
       "       'loudness'],\n",
       "      dtype='object')"
      ]
     },
     "execution_count": 45,
     "metadata": {},
     "output_type": "execute_result"
    }
   ],
   "source": [
    "X.columns#to display input columns"
   ]
  },
  {
   "cell_type": "code",
   "execution_count": 46,
   "metadata": {},
   "outputs": [],
   "source": [
    "#split data into two parts"
   ]
  },
  {
   "cell_type": "code",
   "execution_count": 47,
   "metadata": {},
   "outputs": [],
   "source": [
    "x_train,x_test,y_train,y_test=train_test_split(X,Y,test_size=0.3,random_state=1)"
   ]
  },
  {
   "cell_type": "code",
   "execution_count": 48,
   "metadata": {},
   "outputs": [
    {
     "name": "stdout",
     "output_type": "stream",
     "text": [
      "Original Dataset size :  (12117, 11)\n",
      "Training input dataset size :  (8481, 10)\n",
      "Training output dataset size :  (8481,)\n",
      "Testing input dataset size :  (3636, 10)\n",
      "Testing output dataset size :  (3636,)\n"
     ]
    }
   ],
   "source": [
    "print('Original Dataset size : ',df_new.shape)\n",
    "print('Training input dataset size : ', x_train.shape)\n",
    "print('Training output dataset size : ', y_train.shape)\n",
    "print('Testing input dataset size : ', x_test.shape)\n",
    "print('Testing output dataset size : ', y_test.shape)"
   ]
  },
  {
   "cell_type": "code",
   "execution_count": 49,
   "metadata": {},
   "outputs": [],
   "source": [
    "#it is very important to perform feature scaling here\n",
    "#because feature values lie in different ranges\n",
    "from sklearn.preprocessing import StandardScaler\n",
    "obj=StandardScaler()\n",
    "x_train=obj.fit_transform(x_train)\n",
    "x_test=obj.transform(x_test)"
   ]
  },
  {
   "cell_type": "code",
   "execution_count": 50,
   "metadata": {},
   "outputs": [],
   "source": [
    "#training model with Logistic regression\n",
    "from sklearn.linear_model import LogisticRegression"
   ]
  },
  {
   "cell_type": "code",
   "execution_count": 51,
   "metadata": {},
   "outputs": [],
   "source": [
    "#create object of class Logistic Regression\n",
    "lr=LogisticRegression()"
   ]
  },
  {
   "cell_type": "code",
   "execution_count": 52,
   "metadata": {},
   "outputs": [
    {
     "data": {
      "text/plain": [
       "LogisticRegression()"
      ]
     },
     "execution_count": 52,
     "metadata": {},
     "output_type": "execute_result"
    }
   ],
   "source": [
    "#fit model\n",
    "lr.fit(x_train,y_train)"
   ]
  },
  {
   "cell_type": "code",
   "execution_count": 53,
   "metadata": {},
   "outputs": [
    {
     "name": "stdout",
     "output_type": "stream",
     "text": [
      "[1 1 1 ... 1 1 1]\n",
      "Predicted positive :  3546\n",
      "Predicted negative :  90\n"
     ]
    }
   ],
   "source": [
    "#predict \n",
    "y_pred=lr.predict(x_test)\n",
    "print(y_pred)\n",
    "PP=PN=0\n",
    "for i in y_pred:\n",
    "    if i==1:\n",
    "        PP+=1\n",
    "    else:\n",
    "        PN+=1\n",
    "print('Predicted positive : ',PP)\n",
    "print('Predicted negative : ',PN)"
   ]
  },
  {
   "cell_type": "code",
   "execution_count": 54,
   "metadata": {},
   "outputs": [
    {
     "name": "stdout",
     "output_type": "stream",
     "text": [
      "4356    0\n",
      "46      1\n",
      "7909    0\n",
      "803     1\n",
      "6975    1\n",
      "       ..\n",
      "9212    0\n",
      "2182    1\n",
      "2211    1\n",
      "641     0\n",
      "4867    0\n",
      "Name: mode, Length: 3636, dtype: int64\n",
      "Actual positive :  2465\n",
      "Actual negative :  1171\n"
     ]
    }
   ],
   "source": [
    "print(y_test)\n",
    "AP=AN=0\n",
    "for i in y_test:\n",
    "    if i==1:\n",
    "        AP+=1\n",
    "    else:\n",
    "        AN+=1\n",
    "print('Actual positive : ',AP)\n",
    "print('Actual negative : ',AN)"
   ]
  },
  {
   "cell_type": "code",
   "execution_count": 55,
   "metadata": {},
   "outputs": [
    {
     "name": "stdout",
     "output_type": "stream",
     "text": [
      "Testing Score :  0.6702420242024203\n"
     ]
    }
   ],
   "source": [
    "#testing score\n",
    "testing_score=lr.score(x_test,y_test)\n",
    "print('Testing Score : ',testing_score)"
   ]
  },
  {
   "cell_type": "code",
   "execution_count": 56,
   "metadata": {},
   "outputs": [],
   "source": [
    "#accuracy score is 67%\n",
    "#we will not depend completely on accuracy score\n",
    "#Evaluation of metrics\n",
    "#Recall , Precision ,F1-score"
   ]
  },
  {
   "cell_type": "code",
   "execution_count": 57,
   "metadata": {},
   "outputs": [
    {
     "name": "stdout",
     "output_type": "stream",
     "text": [
      "              precision    recall  f1-score   support\n",
      "\n",
      "           0       0.34      0.03      0.05      1171\n",
      "           1       0.68      0.98      0.80      2465\n",
      "\n",
      "    accuracy                           0.67      3636\n",
      "   macro avg       0.51      0.50      0.42      3636\n",
      "weighted avg       0.57      0.67      0.56      3636\n",
      "\n"
     ]
    }
   ],
   "source": [
    "from sklearn.metrics import classification_report\n",
    "print(classification_report(y_test,y_pred))"
   ]
  },
  {
   "cell_type": "code",
   "execution_count": 60,
   "metadata": {},
   "outputs": [
    {
     "name": "stdout",
     "output_type": "stream",
     "text": [
      "[[  31 1140]\n",
      " [  59 2406]]\n"
     ]
    }
   ],
   "source": [
    "#confiusion matrix\n",
    "from sklearn.metrics import confusion_matrix\n",
    "c_matrix=confusion_matrix(y_test,y_pred)\n",
    "print(c_matrix)"
   ]
  },
  {
   "cell_type": "code",
   "execution_count": 61,
   "metadata": {},
   "outputs": [
    {
     "name": "stdout",
     "output_type": "stream",
     "text": [
      "True Negative :  31\n",
      "False Positive :  1140\n",
      "False Negative :  59\n",
      "True Positive :  2406\n"
     ]
    }
   ],
   "source": [
    "#now convert confusion matrix into array\n",
    "confusion_matrix=c_matrix.ravel()#ravel() converts 2D array to 1D array\n",
    "TN,FP,FN,TP=confusion_matrix\n",
    "print('True Negative : ',TN)\n",
    "print('False Positive : ',FP)\n",
    "print('False Negative : ',FN)\n",
    "print('True Positive : ',TP)"
   ]
  },
  {
   "cell_type": "code",
   "execution_count": 62,
   "metadata": {},
   "outputs": [
    {
     "name": "stdout",
     "output_type": "stream",
     "text": [
      "True Positive + False Positive =  3546\n",
      "True Negative + False Negative =  90\n",
      "Predicted positive :  3546\n",
      "Predicted negative :  90\n"
     ]
    }
   ],
   "source": [
    "print('True Positive + False Positive = ',TP+FP)\n",
    "print('True Negative + False Negative = ',TN+FN)\n",
    "print('Predicted positive : ',PP)\n",
    "print('Predicted negative : ',PN)"
   ]
  },
  {
   "cell_type": "code",
   "execution_count": 63,
   "metadata": {},
   "outputs": [
    {
     "data": {
      "image/png": "[encoded data removed]",
      "text/plain": [
       "<Figure size 432x288 with 1 Axes>"
      ]
     },
     "metadata": {
      "needs_background": "light"
     },
     "output_type": "display_data"
    }
   ],
   "source": [
    "#plot countplot for target variable and\n",
    "#scatterplot for numerical type feature variables\n",
    "sns.countplot(data=df,x='mode')\n",
    "plt.show()"
   ]
  },
  {
   "cell_type": "code",
   "execution_count": 64,
   "metadata": {
    "scrolled": false
   },
   "outputs": [
    {
     "data": {
      "image/png": "[encoded data removed]",
      "text/plain": [
       "<Figure size 432x288 with 1 Axes>"
      ]
     },
     "metadata": {
      "needs_background": "light"
     },
     "output_type": "display_data"
    },
    {
     "data": {
      "image/png": "[encoded data removed]",
      "text/plain": [
       "<Figure size 432x288 with 1 Axes>"
      ]
     },
     "metadata": {
      "needs_background": "light"
     },
     "output_type": "display_data"
    },
    {
     "data": {
      "image/png": "[encoded data removed]",
      "text/plain": [
       "<Figure size 432x288 with 1 Axes>"
      ]
     },
     "metadata": {
      "needs_background": "light"
     },
     "output_type": "display_data"
    },
    {
     "data": {
      "image/png": "[encoded data removed]",
      "text/plain": [
       "<Figure size 432x288 with 1 Axes>"
      ]
     },
     "metadata": {
      "needs_background": "light"
     },
     "output_type": "display_data"
    },
    {
     "data": {
      "image/png": "[encoded data removed]",
      "text/plain": [
       "<Figure size 432x288 with 1 Axes>"
      ]
     },
     "metadata": {
      "needs_background": "light"
     },
     "output_type": "display_data"
    },
    {
     "data": {
      "image/png": "[encoded data removed]",
      "text/plain": [
       "<Figure size 432x288 with 1 Axes>"
      ]
     },
     "metadata": {
      "needs_background": "light"
     },
     "output_type": "display_data"
    },
    {
     "data": {
      "image/png": "[encoded data removed]",
      "text/plain": [
       "<Figure size 432x288 with 1 Axes>"
      ]
     },
     "metadata": {
      "needs_background": "light"
     },
     "output_type": "display_data"
    },
    {
     "data": {
      "image/png": "[encoded data removed]",
      "text/plain": [
       "<Figure size 432x288 with 1 Axes>"
      ]
     },
     "metadata": {
      "needs_background": "light"
     },
     "output_type": "display_data"
    },
    {
     "data": {
      "image/png": "[encoded data removed]",
      "text/plain": [
       "<Figure size 432x288 with 1 Axes>"
      ]
     },
     "metadata": {
      "needs_background": "light"
     },
     "output_type": "display_data"
    },
    {
     "data": {
      "image/png": "[encoded data removed]",
      "text/plain": [
       "<Figure size 432x288 with 1 Axes>"
      ]
     },
     "metadata": {
      "needs_background": "light"
     },
     "output_type": "display_data"
    }
   ],
   "source": [
    "#plot scatter plot for each numerical feature\n",
    "for col in X:\n",
    "    sns.scatterplot(data=df_new,x=col,y='mode')\n",
    "    plt.show()"
   ]
  },
  {
   "cell_type": "markdown",
   "metadata": {
    "scrolled": true
   },
   "source": [
    "GDA"
   ]
  },
  {
   "cell_type": "code",
   "execution_count": 65,
   "metadata": {},
   "outputs": [
    {
     "data": {
      "text/html": [
       "<div>\n",
       "<style scoped>\n",
       "    .dataframe tbody tr th:only-of-type {\n",
       "        vertical-align: middle;\n",
       "    }\n",
       "\n",
       "    .dataframe tbody tr th {\n",
       "        vertical-align: top;\n",
       "    }\n",
       "\n",
       "    .dataframe thead th {\n",
       "        text-align: right;\n",
       "    }\n",
       "</style>\n",
       "<table border=\"1\" class=\"dataframe\">\n",
       "  <thead>\n",
       "    <tr style=\"text-align: right;\">\n",
       "      <th></th>\n",
       "      <th>danceability</th>\n",
       "      <th>energy</th>\n",
       "      <th>speechiness</th>\n",
       "      <th>acousticness</th>\n",
       "      <th>instrumentalness</th>\n",
       "      <th>liveness</th>\n",
       "      <th>valence</th>\n",
       "      <th>tempo</th>\n",
       "      <th>duration_ms</th>\n",
       "      <th>loudness</th>\n",
       "      <th>mode</th>\n",
       "    </tr>\n",
       "  </thead>\n",
       "  <tbody>\n",
       "    <tr>\n",
       "      <th>0</th>\n",
       "      <td>0.511</td>\n",
       "      <td>0.566</td>\n",
       "      <td>0.200</td>\n",
       "      <td>0.34900</td>\n",
       "      <td>0.0</td>\n",
       "      <td>0.340</td>\n",
       "      <td>0.218</td>\n",
       "      <td>83.903</td>\n",
       "      <td>239836</td>\n",
       "      <td>-7.230</td>\n",
       "      <td>0</td>\n",
       "    </tr>\n",
       "    <tr>\n",
       "      <th>1</th>\n",
       "      <td>0.680</td>\n",
       "      <td>0.578</td>\n",
       "      <td>0.040</td>\n",
       "      <td>0.33100</td>\n",
       "      <td>0.0</td>\n",
       "      <td>0.135</td>\n",
       "      <td>0.341</td>\n",
       "      <td>145.038</td>\n",
       "      <td>231267</td>\n",
       "      <td>-5.804</td>\n",
       "      <td>1</td>\n",
       "    </tr>\n",
       "    <tr>\n",
       "      <th>2</th>\n",
       "      <td>0.897</td>\n",
       "      <td>0.662</td>\n",
       "      <td>0.292</td>\n",
       "      <td>0.08520</td>\n",
       "      <td>0.0</td>\n",
       "      <td>0.534</td>\n",
       "      <td>0.389</td>\n",
       "      <td>112.511</td>\n",
       "      <td>145543</td>\n",
       "      <td>-6.903</td>\n",
       "      <td>0</td>\n",
       "    </tr>\n",
       "    <tr>\n",
       "      <th>3</th>\n",
       "      <td>0.834</td>\n",
       "      <td>0.730</td>\n",
       "      <td>0.222</td>\n",
       "      <td>0.00513</td>\n",
       "      <td>0.0</td>\n",
       "      <td>0.124</td>\n",
       "      <td>0.446</td>\n",
       "      <td>155.008</td>\n",
       "      <td>312820</td>\n",
       "      <td>-3.714</td>\n",
       "      <td>1</td>\n",
       "    </tr>\n",
       "    <tr>\n",
       "      <th>4</th>\n",
       "      <td>0.596</td>\n",
       "      <td>0.854</td>\n",
       "      <td>0.463</td>\n",
       "      <td>0.01690</td>\n",
       "      <td>0.0</td>\n",
       "      <td>0.124</td>\n",
       "      <td>0.152</td>\n",
       "      <td>120.274</td>\n",
       "      <td>203418</td>\n",
       "      <td>-5.114</td>\n",
       "      <td>0</td>\n",
       "    </tr>\n",
       "  </tbody>\n",
       "</table>\n",
       "</div>"
      ],
      "text/plain": [
       "   danceability  energy  speechiness  acousticness  instrumentalness  \\\n",
       "0         0.511   0.566        0.200       0.34900               0.0   \n",
       "1         0.680   0.578        0.040       0.33100               0.0   \n",
       "2         0.897   0.662        0.292       0.08520               0.0   \n",
       "3         0.834   0.730        0.222       0.00513               0.0   \n",
       "4         0.596   0.854        0.463       0.01690               0.0   \n",
       "\n",
       "   liveness  valence    tempo  duration_ms  loudness  mode  \n",
       "0     0.340    0.218   83.903       239836    -7.230     0  \n",
       "1     0.135    0.341  145.038       231267    -5.804     1  \n",
       "2     0.534    0.389  112.511       145543    -6.903     0  \n",
       "3     0.124    0.446  155.008       312820    -3.714     1  \n",
       "4     0.124    0.152  120.274       203418    -5.114     0  "
      ]
     },
     "execution_count": 65,
     "metadata": {},
     "output_type": "execute_result"
    }
   ],
   "source": [
    "df_new.head()"
   ]
  },
  {
   "cell_type": "code",
   "execution_count": 66,
   "metadata": {},
   "outputs": [],
   "source": [
    "X = df_new.drop(columns = \"mode\").values\n",
    "Y = df_new[\"mode\"].values"
   ]
  },
  {
   "cell_type": "code",
   "execution_count": 67,
   "metadata": {},
   "outputs": [],
   "source": [
    "x_train, x_test, y_train, y_test = train_test_split(X, Y, test_size = 0.3,random_state=1)"
   ]
  },
  {
   "cell_type": "code",
   "execution_count": 68,
   "metadata": {},
   "outputs": [
    {
     "name": "stdout",
     "output_type": "stream",
     "text": [
      "Original Dataset size :  (12117, 11)\n",
      "Training input dataset size :  (8481, 10)\n",
      "Training output dataset size :  (8481,)\n",
      "Testing input dataset size :  (3636, 10)\n",
      "Testing output dataset size :  (3636,)\n"
     ]
    }
   ],
   "source": [
    "print('Original Dataset size : ',df_new.shape)\n",
    "print('Training input dataset size : ', x_train.shape)\n",
    "print('Training output dataset size : ', y_train.shape)\n",
    "print('Testing input dataset size : ', x_test.shape)\n",
    "print('Testing output dataset size : ', y_test.shape)"
   ]
  },
  {
   "cell_type": "code",
   "execution_count": 69,
   "metadata": {},
   "outputs": [],
   "source": [
    "pca = PCA(n_components=2)#create object of class PCA"
   ]
  },
  {
   "cell_type": "code",
   "execution_count": 70,
   "metadata": {},
   "outputs": [
    {
     "data": {
      "text/plain": [
       "PCA(n_components=2)"
      ]
     },
     "execution_count": 70,
     "metadata": {},
     "output_type": "execute_result"
    }
   ],
   "source": [
    "#fit model\n",
    "pca.fit(x_train)"
   ]
  },
  {
   "cell_type": "code",
   "execution_count": 71,
   "metadata": {},
   "outputs": [],
   "source": [
    "#trasformation of input variables\n",
    "x_train = pca.transform(x_train)\n",
    "x_test = pca.transform(x_test)"
   ]
  },
  {
   "cell_type": "code",
   "execution_count": 72,
   "metadata": {},
   "outputs": [
    {
     "data": {
      "image/png": "[encoded data removed]",
      "text/plain": [
       "<Figure size 432x288 with 1 Axes>"
      ]
     },
     "metadata": {
      "needs_background": "light"
     },
     "output_type": "display_data"
    }
   ],
   "source": [
    "plt.scatter(x_train.T[0], x_train.T[1], c=y_train, cmap='jet');"
   ]
  },
  {
   "cell_type": "code",
   "execution_count": 73,
   "metadata": {},
   "outputs": [],
   "source": [
    "phi = np.mean(y_train == 1)"
   ]
  },
  {
   "cell_type": "code",
   "execution_count": 74,
   "metadata": {},
   "outputs": [],
   "source": [
    "indices = (y_train == 0)\n",
    "denominator = np.sum(indices)\n",
    "numerator = np.sum(x_train[indices], axis=0)\n",
    "mu_0 = numerator / denominator"
   ]
  },
  {
   "cell_type": "code",
   "execution_count": 75,
   "metadata": {},
   "outputs": [],
   "source": [
    "indices = (y_train == 1)\n",
    "denominator = np.sum(indices)\n",
    "numerator = np.sum(x_train[indices], axis=0)\n",
    "mu_1 = numerator / denominator"
   ]
  },
  {
   "cell_type": "code",
   "execution_count": 76,
   "metadata": {},
   "outputs": [],
   "source": [
    "mu = [mu_0, mu_1]\n",
    " \n",
    "# Initialize the sum\n",
    "x_minus_mu = x_train[0] - mu[y_train[0]]\n",
    "# We don't want rank-one arrays\n",
    "x_minus_mu = x_minus_mu.reshape(*(x_minus_mu.shape), 1)\n",
    "s = np.matmul(x_minus_mu, x_minus_mu.T)\n",
    " \n",
    "m = len(y_train)\n",
    " \n",
    "for i in range(1, m):\n",
    "    x_minus_mu = x_train[i] - mu[y_train[i]]\n",
    "    x_minus_mu = x_minus_mu.reshape(*(x_minus_mu.shape), 1)\n",
    "    s += np.matmul(x_minus_mu, x_minus_mu.T)\n",
    "s/= m"
   ]
  },
  {
   "cell_type": "code",
   "execution_count": 77,
   "metadata": {},
   "outputs": [
    {
     "name": "stdout",
     "output_type": "stream",
     "text": [
      "3636\n"
     ]
    }
   ],
   "source": [
    "pi = 3.1415926535\n",
    "n = len(mu_0) # Or mu_1, or any of the X\n",
    "denominator = (2 * pi) ** (n / 2) * np.sqrt(np.linalg.det(s))\n",
    " \n",
    "predictions = []\n",
    " \n",
    "for x in x_test:\n",
    "    x_minus_mu0 = x - mu_0\n",
    "    x_minus_mu0 = x_minus_mu0.reshape(*(x_minus_mu0.shape), 1)\n",
    "    p_x0 = 1 / denominator * np.exp(-0.5 * np.matmul(x_minus_mu0.T, np.matmul(np.linalg.inv(s), x_minus_mu0)))\n",
    "    p_x0 = np.squeeze(p_x0)\n",
    " \n",
    "    x_minus_mu1 = x - mu_1\n",
    "    x_minus_mu1 = x_minus_mu1.reshape(*(x_minus_mu1.shape), 1)\n",
    "    p_x1 = 1 / denominator * np.exp(-0.5 * np.matmul(x_minus_mu1.T, np.matmul(np.linalg.inv(s), x_minus_mu1)))\n",
    "    p_x1 = np.squeeze(p_x1)\n",
    " \n",
    "    if p_x1 >= p_x0:\n",
    "        predictions.append(1)\n",
    "    else:\n",
    "        predictions.append(0)\n",
    "print(len(predictions))"
   ]
  },
  {
   "cell_type": "code",
   "execution_count": 78,
   "metadata": {},
   "outputs": [
    {
     "name": "stdout",
     "output_type": "stream",
     "text": [
      "Accuracy  0.536028602860286\n"
     ]
    }
   ],
   "source": [
    "from sklearn.metrics import accuracy_score\n",
    "print('Accuracy ',accuracy_score(y_test, predictions))"
   ]
  }
 ],
 "metadata": {
  "kernelspec": {
   "display_name": "Python 3",
   "language": "python",
   "name": "python3"
  },
  "language_info": {
   "codemirror_mode": {
    "name": "ipython",
    "version": 3
   },
   "file_extension": ".py",
   "mimetype": "text/x-python",
   "name": "python",
   "nbconvert_exporter": "python",
   "pygments_lexer": "ipython3",
   "version": "3.8.5"
  }
 },
 "nbformat": 4,
 "nbformat_minor": 4
}
